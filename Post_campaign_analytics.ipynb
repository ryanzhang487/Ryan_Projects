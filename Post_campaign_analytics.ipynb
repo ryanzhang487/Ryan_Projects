{
 "cells": [
  {
   "cell_type": "code",
   "execution_count": 2,
   "metadata": {},
   "outputs": [],
   "source": [
    "import pandas as pd # pandas provides indexing structure and data manipulation functionality"
   ]
  },
  {
   "cell_type": "code",
   "execution_count": 3,
   "metadata": {},
   "outputs": [],
   "source": [
    "campaign = pd.read_csv(\"campaign.csv\")"
   ]
  },
  {
   "cell_type": "code",
   "execution_count": 6,
   "metadata": {},
   "outputs": [
    {
     "data": {
      "text/plain": [
       "(10022, 10)"
      ]
     },
     "execution_count": 6,
     "metadata": {},
     "output_type": "execute_result"
    }
   ],
   "source": [
    "campaign.shape    # show how many rows and columns"
   ]
  },
  {
   "cell_type": "code",
   "execution_count": 9,
   "metadata": {},
   "outputs": [
    {
     "data": {
      "text/html": [
       "<div>\n",
       "<style scoped>\n",
       "    .dataframe tbody tr th:only-of-type {\n",
       "        vertical-align: middle;\n",
       "    }\n",
       "\n",
       "    .dataframe tbody tr th {\n",
       "        vertical-align: top;\n",
       "    }\n",
       "\n",
       "    .dataframe thead th {\n",
       "        text-align: right;\n",
       "    }\n",
       "</style>\n",
       "<table border=\"1\" class=\"dataframe\">\n",
       "  <thead>\n",
       "    <tr style=\"text-align: right;\">\n",
       "      <th></th>\n",
       "      <th>user_id</th>\n",
       "      <th>date_served</th>\n",
       "      <th>marketing_channel</th>\n",
       "      <th>test_control</th>\n",
       "      <th>converted</th>\n",
       "      <th>language_preferred</th>\n",
       "      <th>age_group</th>\n",
       "      <th>date_subscribed</th>\n",
       "      <th>date_canceled</th>\n",
       "      <th>is_retained</th>\n",
       "    </tr>\n",
       "  </thead>\n",
       "  <tbody>\n",
       "    <tr>\n",
       "      <th>0</th>\n",
       "      <td>a100000029</td>\n",
       "      <td>1/1/2018</td>\n",
       "      <td>House Ads</td>\n",
       "      <td>personalization</td>\n",
       "      <td>True</td>\n",
       "      <td>English</td>\n",
       "      <td>0-18 years</td>\n",
       "      <td>1/1/2018</td>\n",
       "      <td>NaN</td>\n",
       "      <td>True</td>\n",
       "    </tr>\n",
       "    <tr>\n",
       "      <th>1</th>\n",
       "      <td>a100000030</td>\n",
       "      <td>1/1/2018</td>\n",
       "      <td>House Ads</td>\n",
       "      <td>personalization</td>\n",
       "      <td>True</td>\n",
       "      <td>English</td>\n",
       "      <td>19-24 years</td>\n",
       "      <td>1/1/2018</td>\n",
       "      <td>NaN</td>\n",
       "      <td>True</td>\n",
       "    </tr>\n",
       "    <tr>\n",
       "      <th>2</th>\n",
       "      <td>a100000031</td>\n",
       "      <td>1/1/2018</td>\n",
       "      <td>House Ads</td>\n",
       "      <td>personalization</td>\n",
       "      <td>True</td>\n",
       "      <td>English</td>\n",
       "      <td>24-30 years</td>\n",
       "      <td>1/1/2018</td>\n",
       "      <td>NaN</td>\n",
       "      <td>True</td>\n",
       "    </tr>\n",
       "    <tr>\n",
       "      <th>3</th>\n",
       "      <td>a100000032</td>\n",
       "      <td>1/1/2018</td>\n",
       "      <td>House Ads</td>\n",
       "      <td>personalization</td>\n",
       "      <td>True</td>\n",
       "      <td>English</td>\n",
       "      <td>30-36 years</td>\n",
       "      <td>1/1/2018</td>\n",
       "      <td>NaN</td>\n",
       "      <td>True</td>\n",
       "    </tr>\n",
       "    <tr>\n",
       "      <th>4</th>\n",
       "      <td>a100000033</td>\n",
       "      <td>1/1/2018</td>\n",
       "      <td>House Ads</td>\n",
       "      <td>personalization</td>\n",
       "      <td>True</td>\n",
       "      <td>English</td>\n",
       "      <td>36-45 years</td>\n",
       "      <td>1/1/2018</td>\n",
       "      <td>NaN</td>\n",
       "      <td>True</td>\n",
       "    </tr>\n",
       "    <tr>\n",
       "      <th>...</th>\n",
       "      <td>...</td>\n",
       "      <td>...</td>\n",
       "      <td>...</td>\n",
       "      <td>...</td>\n",
       "      <td>...</td>\n",
       "      <td>...</td>\n",
       "      <td>...</td>\n",
       "      <td>...</td>\n",
       "      <td>...</td>\n",
       "      <td>...</td>\n",
       "    </tr>\n",
       "    <tr>\n",
       "      <th>95</th>\n",
       "      <td>a100000104</td>\n",
       "      <td>1/5/2018</td>\n",
       "      <td>House Ads</td>\n",
       "      <td>control</td>\n",
       "      <td>True</td>\n",
       "      <td>English</td>\n",
       "      <td>0-18 years</td>\n",
       "      <td>1/5/2018</td>\n",
       "      <td>2/17/2018</td>\n",
       "      <td>False</td>\n",
       "    </tr>\n",
       "    <tr>\n",
       "      <th>96</th>\n",
       "      <td>a100000104</td>\n",
       "      <td>1/4/2018</td>\n",
       "      <td>House Ads</td>\n",
       "      <td>control</td>\n",
       "      <td>False</td>\n",
       "      <td>English</td>\n",
       "      <td>0-18 years</td>\n",
       "      <td>1/5/2018</td>\n",
       "      <td>2/17/2018</td>\n",
       "      <td>False</td>\n",
       "    </tr>\n",
       "    <tr>\n",
       "      <th>97</th>\n",
       "      <td>a100000105</td>\n",
       "      <td>1/5/2018</td>\n",
       "      <td>House Ads</td>\n",
       "      <td>control</td>\n",
       "      <td>True</td>\n",
       "      <td>English</td>\n",
       "      <td>19-24 years</td>\n",
       "      <td>1/5/2018</td>\n",
       "      <td>4/14/2018</td>\n",
       "      <td>False</td>\n",
       "    </tr>\n",
       "    <tr>\n",
       "      <th>98</th>\n",
       "      <td>a100000105</td>\n",
       "      <td>1/4/2018</td>\n",
       "      <td>House Ads</td>\n",
       "      <td>control</td>\n",
       "      <td>False</td>\n",
       "      <td>English</td>\n",
       "      <td>19-24 years</td>\n",
       "      <td>1/5/2018</td>\n",
       "      <td>4/14/2018</td>\n",
       "      <td>False</td>\n",
       "    </tr>\n",
       "    <tr>\n",
       "      <th>99</th>\n",
       "      <td>a100000107</td>\n",
       "      <td>1/5/2018</td>\n",
       "      <td>House Ads</td>\n",
       "      <td>control</td>\n",
       "      <td>True</td>\n",
       "      <td>English</td>\n",
       "      <td>24-30 years</td>\n",
       "      <td>1/5/2018</td>\n",
       "      <td>1/11/2018</td>\n",
       "      <td>False</td>\n",
       "    </tr>\n",
       "  </tbody>\n",
       "</table>\n",
       "<p>100 rows × 10 columns</p>\n",
       "</div>"
      ],
      "text/plain": [
       "       user_id date_served marketing_channel     test_control  converted  \\\n",
       "0   a100000029    1/1/2018         House Ads  personalization       True   \n",
       "1   a100000030    1/1/2018         House Ads  personalization       True   \n",
       "2   a100000031    1/1/2018         House Ads  personalization       True   \n",
       "3   a100000032    1/1/2018         House Ads  personalization       True   \n",
       "4   a100000033    1/1/2018         House Ads  personalization       True   \n",
       "..         ...         ...               ...              ...        ...   \n",
       "95  a100000104    1/5/2018         House Ads          control       True   \n",
       "96  a100000104    1/4/2018         House Ads          control      False   \n",
       "97  a100000105    1/5/2018         House Ads          control       True   \n",
       "98  a100000105    1/4/2018         House Ads          control      False   \n",
       "99  a100000107    1/5/2018         House Ads          control       True   \n",
       "\n",
       "   language_preferred    age_group date_subscribed date_canceled is_retained  \n",
       "0             English   0-18 years        1/1/2018           NaN        True  \n",
       "1             English  19-24 years        1/1/2018           NaN        True  \n",
       "2             English  24-30 years        1/1/2018           NaN        True  \n",
       "3             English  30-36 years        1/1/2018           NaN        True  \n",
       "4             English  36-45 years        1/1/2018           NaN        True  \n",
       "..                ...          ...             ...           ...         ...  \n",
       "95            English   0-18 years        1/5/2018     2/17/2018       False  \n",
       "96            English   0-18 years        1/5/2018     2/17/2018       False  \n",
       "97            English  19-24 years        1/5/2018     4/14/2018       False  \n",
       "98            English  19-24 years        1/5/2018     4/14/2018       False  \n",
       "99            English  24-30 years        1/5/2018     1/11/2018       False  \n",
       "\n",
       "[100 rows x 10 columns]"
      ]
     },
     "execution_count": 9,
     "metadata": {},
     "output_type": "execute_result"
    }
   ],
   "source": [
    "# look at the data for first 100 rows\n",
    "campaign.head(100)"
   ]
  },
  {
   "cell_type": "markdown",
   "metadata": {},
   "source": [
    "`.describe()` provides summary statistics for both numeric and non-numeric data."
   ]
  },
  {
   "cell_type": "code",
   "execution_count": 69,
   "metadata": {},
   "outputs": [
    {
     "data": {
      "text/html": [
       "<div>\n",
       "<style scoped>\n",
       "    .dataframe tbody tr th:only-of-type {\n",
       "        vertical-align: middle;\n",
       "    }\n",
       "\n",
       "    .dataframe tbody tr th {\n",
       "        vertical-align: top;\n",
       "    }\n",
       "\n",
       "    .dataframe thead th {\n",
       "        text-align: right;\n",
       "    }\n",
       "</style>\n",
       "<table border=\"1\" class=\"dataframe\">\n",
       "  <thead>\n",
       "    <tr style=\"text-align: right;\">\n",
       "      <th></th>\n",
       "      <th>user_id</th>\n",
       "      <th>date_served</th>\n",
       "      <th>marketing_channel</th>\n",
       "      <th>test_control</th>\n",
       "      <th>converted</th>\n",
       "      <th>language_preferred</th>\n",
       "      <th>age_group</th>\n",
       "      <th>date_subscribed</th>\n",
       "      <th>date_canceled</th>\n",
       "      <th>is_retained</th>\n",
       "    </tr>\n",
       "  </thead>\n",
       "  <tbody>\n",
       "    <tr>\n",
       "      <th>count</th>\n",
       "      <td>10022</td>\n",
       "      <td>10021</td>\n",
       "      <td>10022</td>\n",
       "      <td>10022</td>\n",
       "      <td>10022</td>\n",
       "      <td>10022</td>\n",
       "      <td>10022</td>\n",
       "      <td>1856</td>\n",
       "      <td>577</td>\n",
       "      <td>1856</td>\n",
       "    </tr>\n",
       "    <tr>\n",
       "      <th>unique</th>\n",
       "      <td>7294</td>\n",
       "      <td>31</td>\n",
       "      <td>5</td>\n",
       "      <td>2</td>\n",
       "      <td>2</td>\n",
       "      <td>4</td>\n",
       "      <td>7</td>\n",
       "      <td>31</td>\n",
       "      <td>115</td>\n",
       "      <td>2</td>\n",
       "    </tr>\n",
       "    <tr>\n",
       "      <th>top</th>\n",
       "      <td>a100000882</td>\n",
       "      <td>1/15/2018</td>\n",
       "      <td>House Ads</td>\n",
       "      <td>control</td>\n",
       "      <td>False</td>\n",
       "      <td>English</td>\n",
       "      <td>19-24 years</td>\n",
       "      <td>1/16/2018</td>\n",
       "      <td>4/2/2018</td>\n",
       "      <td>True</td>\n",
       "    </tr>\n",
       "    <tr>\n",
       "      <th>freq</th>\n",
       "      <td>12</td>\n",
       "      <td>789</td>\n",
       "      <td>4733</td>\n",
       "      <td>5076</td>\n",
       "      <td>8946</td>\n",
       "      <td>9260</td>\n",
       "      <td>1679</td>\n",
       "      <td>163</td>\n",
       "      <td>15</td>\n",
       "      <td>1279</td>\n",
       "    </tr>\n",
       "  </tbody>\n",
       "</table>\n",
       "</div>"
      ],
      "text/plain": [
       "           user_id date_served marketing_channel test_control converted  \\\n",
       "count        10022       10021             10022        10022     10022   \n",
       "unique        7294          31                 5            2         2   \n",
       "top     a100000882   1/15/2018         House Ads      control     False   \n",
       "freq            12         789              4733         5076      8946   \n",
       "\n",
       "       language_preferred    age_group date_subscribed date_canceled  \\\n",
       "count               10022        10022            1856           577   \n",
       "unique                  4            7              31           115   \n",
       "top               English  19-24 years       1/16/2018      4/2/2018   \n",
       "freq                 9260         1679             163            15   \n",
       "\n",
       "       is_retained  \n",
       "count         1856  \n",
       "unique           2  \n",
       "top           True  \n",
       "freq          1279  "
      ]
     },
     "execution_count": 69,
     "metadata": {},
     "output_type": "execute_result"
    }
   ],
   "source": [
    "# look at the summary info\n",
    "campaign.describe()  # (())make it more nice format"
   ]
  },
  {
   "cell_type": "code",
   "execution_count": 70,
   "metadata": {},
   "outputs": [
    {
     "data": {
      "text/plain": [
       "0        House Ads\n",
       "1        House Ads\n",
       "2        House Ads\n",
       "3        House Ads\n",
       "4        House Ads\n",
       "           ...    \n",
       "10017        Email\n",
       "10018        Email\n",
       "10019    Instagram\n",
       "10020        Email\n",
       "10021     Facebook\n",
       "Name: marketing_channel, Length: 10022, dtype: object"
      ]
     },
     "execution_count": 70,
     "metadata": {},
     "output_type": "execute_result"
    }
   ],
   "source": [
    "campaign[\"marketing_channel\"]  # use ['column'] to show this column info"
   ]
  },
  {
   "cell_type": "code",
   "execution_count": 10,
   "metadata": {},
   "outputs": [
    {
     "data": {
      "text/html": [
       "<div>\n",
       "<style scoped>\n",
       "    .dataframe tbody tr th:only-of-type {\n",
       "        vertical-align: middle;\n",
       "    }\n",
       "\n",
       "    .dataframe tbody tr th {\n",
       "        vertical-align: top;\n",
       "    }\n",
       "\n",
       "    .dataframe thead th {\n",
       "        text-align: right;\n",
       "    }\n",
       "</style>\n",
       "<table border=\"1\" class=\"dataframe\">\n",
       "  <thead>\n",
       "    <tr style=\"text-align: right;\">\n",
       "      <th></th>\n",
       "      <th>marketing_channel</th>\n",
       "    </tr>\n",
       "  </thead>\n",
       "  <tbody>\n",
       "    <tr>\n",
       "      <th>0</th>\n",
       "      <td>House Ads</td>\n",
       "    </tr>\n",
       "    <tr>\n",
       "      <th>1</th>\n",
       "      <td>House Ads</td>\n",
       "    </tr>\n",
       "    <tr>\n",
       "      <th>2</th>\n",
       "      <td>House Ads</td>\n",
       "    </tr>\n",
       "    <tr>\n",
       "      <th>3</th>\n",
       "      <td>House Ads</td>\n",
       "    </tr>\n",
       "    <tr>\n",
       "      <th>4</th>\n",
       "      <td>House Ads</td>\n",
       "    </tr>\n",
       "    <tr>\n",
       "      <th>...</th>\n",
       "      <td>...</td>\n",
       "    </tr>\n",
       "    <tr>\n",
       "      <th>10017</th>\n",
       "      <td>Email</td>\n",
       "    </tr>\n",
       "    <tr>\n",
       "      <th>10018</th>\n",
       "      <td>Email</td>\n",
       "    </tr>\n",
       "    <tr>\n",
       "      <th>10019</th>\n",
       "      <td>Instagram</td>\n",
       "    </tr>\n",
       "    <tr>\n",
       "      <th>10020</th>\n",
       "      <td>Email</td>\n",
       "    </tr>\n",
       "    <tr>\n",
       "      <th>10021</th>\n",
       "      <td>Facebook</td>\n",
       "    </tr>\n",
       "  </tbody>\n",
       "</table>\n",
       "<p>10022 rows × 1 columns</p>\n",
       "</div>"
      ],
      "text/plain": [
       "      marketing_channel\n",
       "0             House Ads\n",
       "1             House Ads\n",
       "2             House Ads\n",
       "3             House Ads\n",
       "4             House Ads\n",
       "...                 ...\n",
       "10017             Email\n",
       "10018             Email\n",
       "10019         Instagram\n",
       "10020             Email\n",
       "10021          Facebook\n",
       "\n",
       "[10022 rows x 1 columns]"
      ]
     },
     "execution_count": 10,
     "metadata": {},
     "output_type": "execute_result"
    }
   ],
   "source": [
    "campaign[[\"marketing_channel\"]]  # [[]]make it more nice format"
   ]
  },
  {
   "cell_type": "markdown",
   "metadata": {},
   "source": [
    "Check **duplicate** records for primary key column\n"
   ]
  },
  {
   "cell_type": "code",
   "execution_count": 11,
   "metadata": {},
   "outputs": [
    {
     "data": {
      "text/plain": [
       "10022"
      ]
     },
     "execution_count": 11,
     "metadata": {},
     "output_type": "execute_result"
    }
   ],
   "source": [
    "len(campaign[\"user_id\"]) # show total counts"
   ]
  },
  {
   "cell_type": "code",
   "execution_count": 73,
   "metadata": {},
   "outputs": [
    {
     "data": {
      "text/plain": [
       "7294"
      ]
     },
     "execution_count": 73,
     "metadata": {},
     "output_type": "execute_result"
    }
   ],
   "source": [
    "len(campaign[\"user_id\"].unique())  # show unique counts"
   ]
  },
  {
   "cell_type": "markdown",
   "metadata": {},
   "source": [
    "Use **DataFrame.nunique** to count distinct observations over requested axis (default is 0 for row-wise)"
   ]
  },
  {
   "cell_type": "code",
   "execution_count": 74,
   "metadata": {},
   "outputs": [
    {
     "data": {
      "text/plain": [
       "7294"
      ]
     },
     "execution_count": 74,
     "metadata": {},
     "output_type": "execute_result"
    }
   ],
   "source": [
    "campaign[\"user_id\"].nunique()  # show unique counts"
   ]
  },
  {
   "cell_type": "code",
   "execution_count": 13,
   "metadata": {},
   "outputs": [
    {
     "data": {
      "text/plain": [
       "array(['a100000029', 'a100000030', 'a100000031', ..., 'a100007292',\n",
       "       'a100007293', 'a100007294'], dtype=object)"
      ]
     },
     "execution_count": 13,
     "metadata": {},
     "output_type": "execute_result"
    }
   ],
   "source": [
    "campaign[\"user_id\"].unique() # show item"
   ]
  },
  {
   "cell_type": "markdown",
   "metadata": {},
   "source": [
    "For categorical fields or numeric fields with a small number of values, you can use `value_counts()` to see unique values and their frequency. "
   ]
  },
  {
   "cell_type": "code",
   "execution_count": 12,
   "metadata": {},
   "outputs": [
    {
     "data": {
      "text/plain": [
       "House Ads    4733\n",
       "Instagram    1871\n",
       "Facebook     1860\n",
       "Push          993\n",
       "Email         565\n",
       "Name: marketing_channel, dtype: int64"
      ]
     },
     "execution_count": 12,
     "metadata": {},
     "output_type": "execute_result"
    }
   ],
   "source": [
    "campaign[\"marketing_channel\"].value_counts()   #count how many for each item"
   ]
  },
  {
   "cell_type": "markdown",
   "metadata": {},
   "source": [
    "If you don't care about the frequency and just want an easily readable list of the values from a categorical field, use .unique()"
   ]
  },
  {
   "cell_type": "code",
   "execution_count": 77,
   "metadata": {},
   "outputs": [
    {
     "data": {
      "text/plain": [
       "array(['House Ads', 'Push', 'Facebook', 'Instagram', 'Email'],\n",
       "      dtype=object)"
      ]
     },
     "execution_count": 77,
     "metadata": {},
     "output_type": "execute_result"
    }
   ],
   "source": [
    "campaign[\"marketing_channel\"].unique()"
   ]
  },
  {
   "cell_type": "code",
   "execution_count": 78,
   "metadata": {},
   "outputs": [
    {
     "name": "stdout",
     "output_type": "stream",
     "text": [
      "<class 'pandas.core.frame.DataFrame'>\n",
      "RangeIndex: 10022 entries, 0 to 10021\n",
      "Data columns (total 10 columns):\n",
      " #   Column              Non-Null Count  Dtype \n",
      "---  ------              --------------  ----- \n",
      " 0   user_id             10022 non-null  object\n",
      " 1   date_served         10021 non-null  object\n",
      " 2   marketing_channel   10022 non-null  object\n",
      " 3   test_control        10022 non-null  object\n",
      " 4   converted           10022 non-null  bool  \n",
      " 5   language_preferred  10022 non-null  object\n",
      " 6   age_group           10022 non-null  object\n",
      " 7   date_subscribed     1856 non-null   object\n",
      " 8   date_canceled       577 non-null    object\n",
      " 9   is_retained         1856 non-null   object\n",
      "dtypes: bool(1), object(9)\n",
      "memory usage: 714.6+ KB\n"
     ]
    }
   ],
   "source": [
    "campaign.info()"
   ]
  },
  {
   "cell_type": "markdown",
   "metadata": {},
   "source": [
    "`.isnull()` is a method that returns true if values are null.\n",
    "\n",
    "The code below:\n",
    "1. Creates a boolean dataframe with True for null values and False for non-null values\n",
    "2. Sums the number of True's by column (in python True=1 and False=0)"
   ]
  },
  {
   "cell_type": "code",
   "execution_count": 79,
   "metadata": {},
   "outputs": [
    {
     "data": {
      "text/html": [
       "<div>\n",
       "<style scoped>\n",
       "    .dataframe tbody tr th:only-of-type {\n",
       "        vertical-align: middle;\n",
       "    }\n",
       "\n",
       "    .dataframe tbody tr th {\n",
       "        vertical-align: top;\n",
       "    }\n",
       "\n",
       "    .dataframe thead th {\n",
       "        text-align: right;\n",
       "    }\n",
       "</style>\n",
       "<table border=\"1\" class=\"dataframe\">\n",
       "  <thead>\n",
       "    <tr style=\"text-align: right;\">\n",
       "      <th></th>\n",
       "      <th>user_id</th>\n",
       "      <th>date_served</th>\n",
       "      <th>marketing_channel</th>\n",
       "      <th>test_control</th>\n",
       "      <th>converted</th>\n",
       "      <th>language_preferred</th>\n",
       "      <th>age_group</th>\n",
       "      <th>date_subscribed</th>\n",
       "      <th>date_canceled</th>\n",
       "      <th>is_retained</th>\n",
       "    </tr>\n",
       "  </thead>\n",
       "  <tbody>\n",
       "    <tr>\n",
       "      <th>0</th>\n",
       "      <td>False</td>\n",
       "      <td>False</td>\n",
       "      <td>False</td>\n",
       "      <td>False</td>\n",
       "      <td>False</td>\n",
       "      <td>False</td>\n",
       "      <td>False</td>\n",
       "      <td>False</td>\n",
       "      <td>True</td>\n",
       "      <td>False</td>\n",
       "    </tr>\n",
       "    <tr>\n",
       "      <th>1</th>\n",
       "      <td>False</td>\n",
       "      <td>False</td>\n",
       "      <td>False</td>\n",
       "      <td>False</td>\n",
       "      <td>False</td>\n",
       "      <td>False</td>\n",
       "      <td>False</td>\n",
       "      <td>False</td>\n",
       "      <td>True</td>\n",
       "      <td>False</td>\n",
       "    </tr>\n",
       "    <tr>\n",
       "      <th>2</th>\n",
       "      <td>False</td>\n",
       "      <td>False</td>\n",
       "      <td>False</td>\n",
       "      <td>False</td>\n",
       "      <td>False</td>\n",
       "      <td>False</td>\n",
       "      <td>False</td>\n",
       "      <td>False</td>\n",
       "      <td>True</td>\n",
       "      <td>False</td>\n",
       "    </tr>\n",
       "    <tr>\n",
       "      <th>3</th>\n",
       "      <td>False</td>\n",
       "      <td>False</td>\n",
       "      <td>False</td>\n",
       "      <td>False</td>\n",
       "      <td>False</td>\n",
       "      <td>False</td>\n",
       "      <td>False</td>\n",
       "      <td>False</td>\n",
       "      <td>True</td>\n",
       "      <td>False</td>\n",
       "    </tr>\n",
       "    <tr>\n",
       "      <th>4</th>\n",
       "      <td>False</td>\n",
       "      <td>False</td>\n",
       "      <td>False</td>\n",
       "      <td>False</td>\n",
       "      <td>False</td>\n",
       "      <td>False</td>\n",
       "      <td>False</td>\n",
       "      <td>False</td>\n",
       "      <td>True</td>\n",
       "      <td>False</td>\n",
       "    </tr>\n",
       "    <tr>\n",
       "      <th>...</th>\n",
       "      <td>...</td>\n",
       "      <td>...</td>\n",
       "      <td>...</td>\n",
       "      <td>...</td>\n",
       "      <td>...</td>\n",
       "      <td>...</td>\n",
       "      <td>...</td>\n",
       "      <td>...</td>\n",
       "      <td>...</td>\n",
       "      <td>...</td>\n",
       "    </tr>\n",
       "    <tr>\n",
       "      <th>10017</th>\n",
       "      <td>False</td>\n",
       "      <td>False</td>\n",
       "      <td>False</td>\n",
       "      <td>False</td>\n",
       "      <td>False</td>\n",
       "      <td>False</td>\n",
       "      <td>False</td>\n",
       "      <td>False</td>\n",
       "      <td>False</td>\n",
       "      <td>False</td>\n",
       "    </tr>\n",
       "    <tr>\n",
       "      <th>10018</th>\n",
       "      <td>False</td>\n",
       "      <td>False</td>\n",
       "      <td>False</td>\n",
       "      <td>False</td>\n",
       "      <td>False</td>\n",
       "      <td>False</td>\n",
       "      <td>False</td>\n",
       "      <td>False</td>\n",
       "      <td>True</td>\n",
       "      <td>False</td>\n",
       "    </tr>\n",
       "    <tr>\n",
       "      <th>10019</th>\n",
       "      <td>False</td>\n",
       "      <td>False</td>\n",
       "      <td>False</td>\n",
       "      <td>False</td>\n",
       "      <td>False</td>\n",
       "      <td>False</td>\n",
       "      <td>False</td>\n",
       "      <td>False</td>\n",
       "      <td>True</td>\n",
       "      <td>False</td>\n",
       "    </tr>\n",
       "    <tr>\n",
       "      <th>10020</th>\n",
       "      <td>False</td>\n",
       "      <td>False</td>\n",
       "      <td>False</td>\n",
       "      <td>False</td>\n",
       "      <td>False</td>\n",
       "      <td>False</td>\n",
       "      <td>False</td>\n",
       "      <td>False</td>\n",
       "      <td>True</td>\n",
       "      <td>False</td>\n",
       "    </tr>\n",
       "    <tr>\n",
       "      <th>10021</th>\n",
       "      <td>False</td>\n",
       "      <td>False</td>\n",
       "      <td>False</td>\n",
       "      <td>False</td>\n",
       "      <td>False</td>\n",
       "      <td>False</td>\n",
       "      <td>False</td>\n",
       "      <td>False</td>\n",
       "      <td>True</td>\n",
       "      <td>False</td>\n",
       "    </tr>\n",
       "  </tbody>\n",
       "</table>\n",
       "<p>10022 rows × 10 columns</p>\n",
       "</div>"
      ],
      "text/plain": [
       "       user_id  date_served  marketing_channel  test_control  converted  \\\n",
       "0        False        False              False         False      False   \n",
       "1        False        False              False         False      False   \n",
       "2        False        False              False         False      False   \n",
       "3        False        False              False         False      False   \n",
       "4        False        False              False         False      False   \n",
       "...        ...          ...                ...           ...        ...   \n",
       "10017    False        False              False         False      False   \n",
       "10018    False        False              False         False      False   \n",
       "10019    False        False              False         False      False   \n",
       "10020    False        False              False         False      False   \n",
       "10021    False        False              False         False      False   \n",
       "\n",
       "       language_preferred  age_group  date_subscribed  date_canceled  \\\n",
       "0                   False      False            False           True   \n",
       "1                   False      False            False           True   \n",
       "2                   False      False            False           True   \n",
       "3                   False      False            False           True   \n",
       "4                   False      False            False           True   \n",
       "...                   ...        ...              ...            ...   \n",
       "10017               False      False            False          False   \n",
       "10018               False      False            False           True   \n",
       "10019               False      False            False           True   \n",
       "10020               False      False            False           True   \n",
       "10021               False      False            False           True   \n",
       "\n",
       "       is_retained  \n",
       "0            False  \n",
       "1            False  \n",
       "2            False  \n",
       "3            False  \n",
       "4            False  \n",
       "...            ...  \n",
       "10017        False  \n",
       "10018        False  \n",
       "10019        False  \n",
       "10020        False  \n",
       "10021        False  \n",
       "\n",
       "[10022 rows x 10 columns]"
      ]
     },
     "execution_count": 79,
     "metadata": {},
     "output_type": "execute_result"
    }
   ],
   "source": [
    "campaign.isnull()  # if no value no nothing, return true"
   ]
  },
  {
   "cell_type": "markdown",
   "metadata": {},
   "source": [
    "**get the number of Missing records in each column:**"
   ]
  },
  {
   "cell_type": "code",
   "execution_count": 80,
   "metadata": {},
   "outputs": [
    {
     "data": {
      "text/plain": [
       "user_id                  0\n",
       "date_served              1\n",
       "marketing_channel        0\n",
       "test_control             0\n",
       "converted                0\n",
       "language_preferred       0\n",
       "age_group                0\n",
       "date_subscribed       8166\n",
       "date_canceled         9445\n",
       "is_retained           8166\n",
       "dtype: int64"
      ]
     },
     "execution_count": 80,
     "metadata": {},
     "output_type": "execute_result"
    }
   ],
   "source": [
    "campaign.isnull().sum()"
   ]
  },
  {
   "cell_type": "markdown",
   "metadata": {},
   "source": [
    "### 2. Campaign result overview"
   ]
  },
  {
   "cell_type": "markdown",
   "metadata": {},
   "source": [
    "**.Groupby**, similar to Group by in SQL, it lets you group data, which is very powerful for analysis. A few things to know:\n",
    "\n",
    ".groupby() returns a groupby object which then needs to be aggregated with count, sum, mean, median etc.\n",
    "By default, .groupby() turns the column you group on into the index for the grouped data\n",
    ".groupby() excludes missings!\n",
    "The format for .groupby() is dataframe.groupby(\"column to group on\")[\"column to summarize\"].summary_function(). Both the \"column to group on\" and the \"column to summarize\" arguments can take more than one column if you input them as a list.\n",
    "\n",
    "Some summary functions:\n",
    "\n",
    "sum(), mean(), median(), min(), count(), max()"
   ]
  },
  {
   "cell_type": "markdown",
   "metadata": {},
   "source": [
    "#### 2.1 How many users receive marketing offers by day?"
   ]
  },
  {
   "cell_type": "code",
   "execution_count": 15,
   "metadata": {},
   "outputs": [
    {
     "name": "stdout",
     "output_type": "stream",
     "text": [
      "date_served\n",
      "1/1/2018     362\n",
      "1/10/2018    337\n",
      "1/11/2018    310\n",
      "1/12/2018    301\n",
      "1/13/2018    306\n",
      "1/14/2018    305\n",
      "1/15/2018    767\n",
      "1/16/2018    388\n",
      "1/17/2018    369\n",
      "1/18/2018    318\n",
      "1/19/2018    305\n",
      "1/2/2018     374\n",
      "1/20/2018    311\n",
      "1/21/2018    229\n",
      "1/22/2018    178\n",
      "1/23/2018    172\n",
      "1/24/2018    190\n",
      "1/25/2018    184\n",
      "1/26/2018    222\n",
      "1/27/2018    320\n",
      "1/28/2018    320\n",
      "1/29/2018    319\n",
      "1/3/2018     348\n",
      "1/30/2018    317\n",
      "1/31/2018    340\n",
      "1/4/2018     323\n",
      "1/5/2018     319\n",
      "1/6/2018     308\n",
      "1/7/2018     275\n",
      "1/8/2018     312\n",
      "1/9/2018     312\n",
      "Name: user_id, dtype: int64\n"
     ]
    }
   ],
   "source": [
    "#Group by date_served\n",
    "daily_users = campaign.groupby(['date_served'])['user_id'].nunique()\n",
    "print(daily_users)\n",
    "# select date_served, count(distinct user_id) from campaign group by date_served ;"
   ]
  },
  {
   "cell_type": "code",
   "execution_count": 16,
   "metadata": {},
   "outputs": [
    {
     "data": {
      "text/plain": [
       "pandas.core.series.Series"
      ]
     },
     "execution_count": 16,
     "metadata": {},
     "output_type": "execute_result"
    }
   ],
   "source": [
    "type(daily_users)"
   ]
  },
  {
   "cell_type": "markdown",
   "metadata": {},
   "source": [
    "DataFrame.nunique(): Count distinct observations over requested axis.  "
   ]
  },
  {
   "cell_type": "code",
   "execution_count": 17,
   "metadata": {},
   "outputs": [
    {
     "name": "stdout",
     "output_type": "stream",
     "text": [
      "date_served\n",
      "1/1/2018     362\n",
      "1/10/2018    337\n",
      "1/11/2018    310\n",
      "1/12/2018    301\n",
      "1/13/2018    306\n",
      "1/14/2018    305\n",
      "1/15/2018    767\n",
      "1/16/2018    388\n",
      "1/17/2018    369\n",
      "1/18/2018    318\n",
      "1/19/2018    305\n",
      "1/2/2018     374\n",
      "1/20/2018    311\n",
      "1/21/2018    229\n",
      "1/22/2018    178\n",
      "1/23/2018    172\n",
      "1/24/2018    190\n",
      "1/25/2018    184\n",
      "1/26/2018    222\n",
      "1/27/2018    320\n",
      "1/28/2018    320\n",
      "1/29/2018    319\n",
      "1/3/2018     348\n",
      "1/30/2018    317\n",
      "1/31/2018    340\n",
      "1/4/2018     323\n",
      "1/5/2018     319\n",
      "1/6/2018     308\n",
      "1/7/2018     275\n",
      "1/8/2018     312\n",
      "1/9/2018     312\n",
      "Name: user_id, dtype: int64\n"
     ]
    }
   ],
   "source": [
    "print(daily_users)"
   ]
  },
  {
   "cell_type": "markdown",
   "metadata": {},
   "source": [
    "Visualization in Python"
   ]
  },
  {
   "cell_type": "code",
   "execution_count": 84,
   "metadata": {
    "scrolled": true
   },
   "outputs": [
    {
     "data": {
      "image/png": "[encoded data removed]",
      "text/plain": [
       "<Figure size 432x288 with 1 Axes>"
      ]
     },
     "metadata": {
      "needs_background": "light"
     },
     "output_type": "display_data"
    }
   ],
   "source": [
    "import matplotlib.pyplot as plt\n",
    "\n",
    "# plot\n",
    "daily_users.plot()    # variable.plot()          to plot\n",
    "\n",
    "# annotate\n",
    "plt.title('daily number of users seeing the ads')\n",
    "plt.xlabel('Date')\n",
    "plt.ylabel('Number of users')\n",
    "plt.show()"
   ]
  },
  {
   "cell_type": "markdown",
   "metadata": {},
   "source": [
    "**Question:** Waht is the issue with the chart above?"
   ]
  },
  {
   "cell_type": "code",
   "execution_count": 18,
   "metadata": {},
   "outputs": [
    {
     "data": {
      "text/plain": [
       "0         1/1/2018\n",
       "1         1/1/2018\n",
       "2         1/1/2018\n",
       "3         1/1/2018\n",
       "4         1/1/2018\n",
       "           ...    \n",
       "10017    1/17/2018\n",
       "10018    1/17/2018\n",
       "10019     1/5/2018\n",
       "10020    1/17/2018\n",
       "10021     1/6/2018\n",
       "Name: date_served, Length: 10022, dtype: object"
      ]
     },
     "execution_count": 18,
     "metadata": {},
     "output_type": "execute_result"
    }
   ],
   "source": [
    "campaign['date_served']"
   ]
  },
  {
   "cell_type": "code",
   "execution_count": 21,
   "metadata": {},
   "outputs": [
    {
     "data": {
      "text/plain": [
       "0       2018-01-01\n",
       "1       2018-01-01\n",
       "2       2018-01-01\n",
       "3       2018-01-01\n",
       "4       2018-01-01\n",
       "           ...    \n",
       "10017   2018-01-17\n",
       "10018   2018-01-17\n",
       "10019   2018-01-05\n",
       "10020   2018-01-17\n",
       "10021   2018-01-06\n",
       "Name: date_served, Length: 10022, dtype: datetime64[ns]"
      ]
     },
     "execution_count": 21,
     "metadata": {},
     "output_type": "execute_result"
    }
   ],
   "source": [
    "campaign['date_served']=pd.to_datetime(campaign['date_served']) #make date format like: yyyy-mm-dd and change type to: datetime64[ns]\n",
    "campaign['date_served']"
   ]
  },
  {
   "cell_type": "code",
   "execution_count": 22,
   "metadata": {},
   "outputs": [
    {
     "name": "stdout",
     "output_type": "stream",
     "text": [
      "<class 'pandas.core.frame.DataFrame'>\n",
      "RangeIndex: 10022 entries, 0 to 10021\n",
      "Data columns (total 10 columns):\n",
      " #   Column              Non-Null Count  Dtype         \n",
      "---  ------              --------------  -----         \n",
      " 0   user_id             10022 non-null  object        \n",
      " 1   date_served         10021 non-null  datetime64[ns]\n",
      " 2   marketing_channel   10022 non-null  object        \n",
      " 3   test_control        10022 non-null  object        \n",
      " 4   converted           10022 non-null  bool          \n",
      " 5   language_preferred  10022 non-null  object        \n",
      " 6   age_group           10022 non-null  object        \n",
      " 7   date_subscribed     1856 non-null   object        \n",
      " 8   date_canceled       577 non-null    object        \n",
      " 9   is_retained         1856 non-null   object        \n",
      "dtypes: bool(1), datetime64[ns](1), object(8)\n",
      "memory usage: 714.6+ KB\n"
     ]
    }
   ],
   "source": [
    "campaign.info()"
   ]
  },
  {
   "cell_type": "code",
   "execution_count": 23,
   "metadata": {},
   "outputs": [],
   "source": [
    "daily_users = campaign.groupby(['date_served'])['user_id'].nunique()"
   ]
  },
  {
   "cell_type": "code",
   "execution_count": 24,
   "metadata": {},
   "outputs": [
    {
     "data": {
      "image/png": "[encoded data removed]",
      "text/plain": [
       "<Figure size 432x288 with 1 Axes>"
      ]
     },
     "metadata": {
      "needs_background": "light"
     },
     "output_type": "display_data"
    }
   ],
   "source": [
    "import matplotlib.pyplot as plt\n",
    "\n",
    "# plot\n",
    "daily_users.plot()\n",
    "\n",
    "# annotate\n",
    "plt.title('daily number of users seeing the ads')\n",
    "plt.xlabel('Date')\n",
    "plt.ylabel('Number of users')\n",
    "plt.show()"
   ]
  },
  {
   "cell_type": "markdown",
   "metadata": {},
   "source": [
    "#### Question: What is the overall conversion rate? hint: use column 'converted'"
   ]
  },
  {
   "cell_type": "code",
   "execution_count": 25,
   "metadata": {},
   "outputs": [
    {
     "data": {
      "text/html": [
       "<div>\n",
       "<style scoped>\n",
       "    .dataframe tbody tr th:only-of-type {\n",
       "        vertical-align: middle;\n",
       "    }\n",
       "\n",
       "    .dataframe tbody tr th {\n",
       "        vertical-align: top;\n",
       "    }\n",
       "\n",
       "    .dataframe thead th {\n",
       "        text-align: right;\n",
       "    }\n",
       "</style>\n",
       "<table border=\"1\" class=\"dataframe\">\n",
       "  <thead>\n",
       "    <tr style=\"text-align: right;\">\n",
       "      <th></th>\n",
       "      <th>user_id</th>\n",
       "      <th>date_served</th>\n",
       "      <th>marketing_channel</th>\n",
       "      <th>test_control</th>\n",
       "      <th>converted</th>\n",
       "      <th>language_preferred</th>\n",
       "      <th>age_group</th>\n",
       "      <th>date_subscribed</th>\n",
       "      <th>date_canceled</th>\n",
       "      <th>is_retained</th>\n",
       "    </tr>\n",
       "  </thead>\n",
       "  <tbody>\n",
       "    <tr>\n",
       "      <th>0</th>\n",
       "      <td>a100000029</td>\n",
       "      <td>2018-01-01</td>\n",
       "      <td>House Ads</td>\n",
       "      <td>personalization</td>\n",
       "      <td>True</td>\n",
       "      <td>English</td>\n",
       "      <td>0-18 years</td>\n",
       "      <td>1/1/2018</td>\n",
       "      <td>NaN</td>\n",
       "      <td>True</td>\n",
       "    </tr>\n",
       "    <tr>\n",
       "      <th>1</th>\n",
       "      <td>a100000030</td>\n",
       "      <td>2018-01-01</td>\n",
       "      <td>House Ads</td>\n",
       "      <td>personalization</td>\n",
       "      <td>True</td>\n",
       "      <td>English</td>\n",
       "      <td>19-24 years</td>\n",
       "      <td>1/1/2018</td>\n",
       "      <td>NaN</td>\n",
       "      <td>True</td>\n",
       "    </tr>\n",
       "    <tr>\n",
       "      <th>2</th>\n",
       "      <td>a100000031</td>\n",
       "      <td>2018-01-01</td>\n",
       "      <td>House Ads</td>\n",
       "      <td>personalization</td>\n",
       "      <td>True</td>\n",
       "      <td>English</td>\n",
       "      <td>24-30 years</td>\n",
       "      <td>1/1/2018</td>\n",
       "      <td>NaN</td>\n",
       "      <td>True</td>\n",
       "    </tr>\n",
       "    <tr>\n",
       "      <th>3</th>\n",
       "      <td>a100000032</td>\n",
       "      <td>2018-01-01</td>\n",
       "      <td>House Ads</td>\n",
       "      <td>personalization</td>\n",
       "      <td>True</td>\n",
       "      <td>English</td>\n",
       "      <td>30-36 years</td>\n",
       "      <td>1/1/2018</td>\n",
       "      <td>NaN</td>\n",
       "      <td>True</td>\n",
       "    </tr>\n",
       "    <tr>\n",
       "      <th>4</th>\n",
       "      <td>a100000033</td>\n",
       "      <td>2018-01-01</td>\n",
       "      <td>House Ads</td>\n",
       "      <td>personalization</td>\n",
       "      <td>True</td>\n",
       "      <td>English</td>\n",
       "      <td>36-45 years</td>\n",
       "      <td>1/1/2018</td>\n",
       "      <td>NaN</td>\n",
       "      <td>True</td>\n",
       "    </tr>\n",
       "    <tr>\n",
       "      <th>...</th>\n",
       "      <td>...</td>\n",
       "      <td>...</td>\n",
       "      <td>...</td>\n",
       "      <td>...</td>\n",
       "      <td>...</td>\n",
       "      <td>...</td>\n",
       "      <td>...</td>\n",
       "      <td>...</td>\n",
       "      <td>...</td>\n",
       "      <td>...</td>\n",
       "    </tr>\n",
       "    <tr>\n",
       "      <th>10017</th>\n",
       "      <td>a100007290</td>\n",
       "      <td>2018-01-17</td>\n",
       "      <td>Email</td>\n",
       "      <td>control</td>\n",
       "      <td>True</td>\n",
       "      <td>German</td>\n",
       "      <td>45-55 years</td>\n",
       "      <td>1/17/2018</td>\n",
       "      <td>1/24/2018</td>\n",
       "      <td>False</td>\n",
       "    </tr>\n",
       "    <tr>\n",
       "      <th>10018</th>\n",
       "      <td>a100007291</td>\n",
       "      <td>2018-01-17</td>\n",
       "      <td>Email</td>\n",
       "      <td>control</td>\n",
       "      <td>True</td>\n",
       "      <td>German</td>\n",
       "      <td>55+ years</td>\n",
       "      <td>1/17/2018</td>\n",
       "      <td>NaN</td>\n",
       "      <td>True</td>\n",
       "    </tr>\n",
       "    <tr>\n",
       "      <th>10019</th>\n",
       "      <td>a100007292</td>\n",
       "      <td>2018-01-05</td>\n",
       "      <td>Instagram</td>\n",
       "      <td>control</td>\n",
       "      <td>False</td>\n",
       "      <td>German</td>\n",
       "      <td>55+ years</td>\n",
       "      <td>1/17/2018</td>\n",
       "      <td>NaN</td>\n",
       "      <td>True</td>\n",
       "    </tr>\n",
       "    <tr>\n",
       "      <th>10020</th>\n",
       "      <td>a100007293</td>\n",
       "      <td>2018-01-17</td>\n",
       "      <td>Email</td>\n",
       "      <td>control</td>\n",
       "      <td>True</td>\n",
       "      <td>German</td>\n",
       "      <td>0-18 years</td>\n",
       "      <td>1/17/2018</td>\n",
       "      <td>NaN</td>\n",
       "      <td>True</td>\n",
       "    </tr>\n",
       "    <tr>\n",
       "      <th>10021</th>\n",
       "      <td>a100007294</td>\n",
       "      <td>2018-01-06</td>\n",
       "      <td>Facebook</td>\n",
       "      <td>control</td>\n",
       "      <td>False</td>\n",
       "      <td>German</td>\n",
       "      <td>0-18 years</td>\n",
       "      <td>1/17/2018</td>\n",
       "      <td>NaN</td>\n",
       "      <td>True</td>\n",
       "    </tr>\n",
       "  </tbody>\n",
       "</table>\n",
       "<p>10022 rows × 10 columns</p>\n",
       "</div>"
      ],
      "text/plain": [
       "          user_id date_served marketing_channel     test_control  converted  \\\n",
       "0      a100000029  2018-01-01         House Ads  personalization       True   \n",
       "1      a100000030  2018-01-01         House Ads  personalization       True   \n",
       "2      a100000031  2018-01-01         House Ads  personalization       True   \n",
       "3      a100000032  2018-01-01         House Ads  personalization       True   \n",
       "4      a100000033  2018-01-01         House Ads  personalization       True   \n",
       "...           ...         ...               ...              ...        ...   \n",
       "10017  a100007290  2018-01-17             Email          control       True   \n",
       "10018  a100007291  2018-01-17             Email          control       True   \n",
       "10019  a100007292  2018-01-05         Instagram          control      False   \n",
       "10020  a100007293  2018-01-17             Email          control       True   \n",
       "10021  a100007294  2018-01-06          Facebook          control      False   \n",
       "\n",
       "      language_preferred    age_group date_subscribed date_canceled  \\\n",
       "0                English   0-18 years        1/1/2018           NaN   \n",
       "1                English  19-24 years        1/1/2018           NaN   \n",
       "2                English  24-30 years        1/1/2018           NaN   \n",
       "3                English  30-36 years        1/1/2018           NaN   \n",
       "4                English  36-45 years        1/1/2018           NaN   \n",
       "...                  ...          ...             ...           ...   \n",
       "10017             German  45-55 years       1/17/2018     1/24/2018   \n",
       "10018             German    55+ years       1/17/2018           NaN   \n",
       "10019             German    55+ years       1/17/2018           NaN   \n",
       "10020             German   0-18 years       1/17/2018           NaN   \n",
       "10021             German   0-18 years       1/17/2018           NaN   \n",
       "\n",
       "      is_retained  \n",
       "0            True  \n",
       "1            True  \n",
       "2            True  \n",
       "3            True  \n",
       "4            True  \n",
       "...           ...  \n",
       "10017       False  \n",
       "10018        True  \n",
       "10019        True  \n",
       "10020        True  \n",
       "10021        True  \n",
       "\n",
       "[10022 rows x 10 columns]"
      ]
     },
     "execution_count": 25,
     "metadata": {},
     "output_type": "execute_result"
    }
   ],
   "source": [
    "campaign"
   ]
  },
  {
   "cell_type": "code",
   "execution_count": 89,
   "metadata": {},
   "outputs": [
    {
     "data": {
      "text/plain": [
       "converted\n",
       "False    6854\n",
       "True     1015\n",
       "Name: user_id, dtype: int64"
      ]
     },
     "execution_count": 89,
     "metadata": {},
     "output_type": "execute_result"
    }
   ],
   "source": [
    "campaign.groupby(['converted'])['user_id'].nunique()"
   ]
  },
  {
   "cell_type": "code",
   "execution_count": 26,
   "metadata": {},
   "outputs": [
    {
     "data": {
      "text/plain": [
       "converted\n",
       "False    6854\n",
       "True     1015\n",
       "Name: user_id, dtype: int64"
      ]
     },
     "execution_count": 26,
     "metadata": {},
     "output_type": "execute_result"
    }
   ],
   "source": [
    "campaign.groupby(['converted'])['user_id'].nunique()"
   ]
  },
  {
   "cell_type": "code",
   "execution_count": 27,
   "metadata": {},
   "outputs": [
    {
     "data": {
      "text/plain": [
       "7294"
      ]
     },
     "execution_count": 27,
     "metadata": {},
     "output_type": "execute_result"
    }
   ],
   "source": [
    "campaign['user_id'].nunique()"
   ]
  },
  {
   "cell_type": "markdown",
   "metadata": {},
   "source": [
    "Why is the sum of false and true rates larger than 1?\n",
    "Do we care about the false rate?"
   ]
  },
  {
   "cell_type": "code",
   "execution_count": 28,
   "metadata": {},
   "outputs": [
    {
     "data": {
      "text/plain": [
       "converted\n",
       "False    0.939676\n",
       "True     0.139155\n",
       "Name: user_id, dtype: float64"
      ]
     },
     "execution_count": 28,
     "metadata": {},
     "output_type": "execute_result"
    }
   ],
   "source": [
    "campaign.groupby(['converted'])['user_id'].nunique()/campaign['user_id'].nunique()"
   ]
  },
  {
   "cell_type": "code",
   "execution_count": 29,
   "metadata": {},
   "outputs": [
    {
     "data": {
      "text/plain": [
       "0.13915547024952016"
      ]
     },
     "execution_count": 29,
     "metadata": {},
     "output_type": "execute_result"
    }
   ],
   "source": [
    "conversation_rate = 1015 / 7294\n",
    "conversation_rate"
   ]
  },
  {
   "cell_type": "markdown",
   "metadata": {},
   "source": [
    "#### 2.2 Common marketing metrics to evaluate campaign performance\n",
    "- **Conversion rate** = Number of people who converted / Total number of people who received offers\n",
    "- **Retention rate** = Number of people who remained / Total number of people who converted"
   ]
  },
  {
   "cell_type": "markdown",
   "metadata": {},
   "source": [
    "how to do filtering in Pandas:"
   ]
  },
  {
   "cell_type": "code",
   "execution_count": 30,
   "metadata": {},
   "outputs": [
    {
     "data": {
      "text/plain": [
       "0         True\n",
       "1         True\n",
       "2         True\n",
       "3         True\n",
       "4         True\n",
       "         ...  \n",
       "10017    False\n",
       "10018     True\n",
       "10019     True\n",
       "10020     True\n",
       "10021     True\n",
       "Name: is_retained, Length: 10022, dtype: bool"
      ]
     },
     "execution_count": 30,
     "metadata": {},
     "output_type": "execute_result"
    }
   ],
   "source": [
    "# Step one: create a boolean mask\n",
    "campaign['is_retained']==True"
   ]
  },
  {
   "cell_type": "code",
   "execution_count": 94,
   "metadata": {},
   "outputs": [
    {
     "data": {
      "text/html": [
       "<div>\n",
       "<style scoped>\n",
       "    .dataframe tbody tr th:only-of-type {\n",
       "        vertical-align: middle;\n",
       "    }\n",
       "\n",
       "    .dataframe tbody tr th {\n",
       "        vertical-align: top;\n",
       "    }\n",
       "\n",
       "    .dataframe thead th {\n",
       "        text-align: right;\n",
       "    }\n",
       "</style>\n",
       "<table border=\"1\" class=\"dataframe\">\n",
       "  <thead>\n",
       "    <tr style=\"text-align: right;\">\n",
       "      <th></th>\n",
       "      <th>user_id</th>\n",
       "      <th>date_served</th>\n",
       "      <th>marketing_channel</th>\n",
       "      <th>test_control</th>\n",
       "      <th>converted</th>\n",
       "      <th>language_preferred</th>\n",
       "      <th>age_group</th>\n",
       "      <th>date_subscribed</th>\n",
       "      <th>date_canceled</th>\n",
       "      <th>is_retained</th>\n",
       "    </tr>\n",
       "  </thead>\n",
       "  <tbody>\n",
       "    <tr>\n",
       "      <th>0</th>\n",
       "      <td>a100000029</td>\n",
       "      <td>2018-01-01</td>\n",
       "      <td>House Ads</td>\n",
       "      <td>personalization</td>\n",
       "      <td>True</td>\n",
       "      <td>English</td>\n",
       "      <td>0-18 years</td>\n",
       "      <td>1/1/2018</td>\n",
       "      <td>NaN</td>\n",
       "      <td>True</td>\n",
       "    </tr>\n",
       "    <tr>\n",
       "      <th>1</th>\n",
       "      <td>a100000030</td>\n",
       "      <td>2018-01-01</td>\n",
       "      <td>House Ads</td>\n",
       "      <td>personalization</td>\n",
       "      <td>True</td>\n",
       "      <td>English</td>\n",
       "      <td>19-24 years</td>\n",
       "      <td>1/1/2018</td>\n",
       "      <td>NaN</td>\n",
       "      <td>True</td>\n",
       "    </tr>\n",
       "    <tr>\n",
       "      <th>2</th>\n",
       "      <td>a100000031</td>\n",
       "      <td>2018-01-01</td>\n",
       "      <td>House Ads</td>\n",
       "      <td>personalization</td>\n",
       "      <td>True</td>\n",
       "      <td>English</td>\n",
       "      <td>24-30 years</td>\n",
       "      <td>1/1/2018</td>\n",
       "      <td>NaN</td>\n",
       "      <td>True</td>\n",
       "    </tr>\n",
       "    <tr>\n",
       "      <th>3</th>\n",
       "      <td>a100000032</td>\n",
       "      <td>2018-01-01</td>\n",
       "      <td>House Ads</td>\n",
       "      <td>personalization</td>\n",
       "      <td>True</td>\n",
       "      <td>English</td>\n",
       "      <td>30-36 years</td>\n",
       "      <td>1/1/2018</td>\n",
       "      <td>NaN</td>\n",
       "      <td>True</td>\n",
       "    </tr>\n",
       "    <tr>\n",
       "      <th>4</th>\n",
       "      <td>a100000033</td>\n",
       "      <td>2018-01-01</td>\n",
       "      <td>House Ads</td>\n",
       "      <td>personalization</td>\n",
       "      <td>True</td>\n",
       "      <td>English</td>\n",
       "      <td>36-45 years</td>\n",
       "      <td>1/1/2018</td>\n",
       "      <td>NaN</td>\n",
       "      <td>True</td>\n",
       "    </tr>\n",
       "    <tr>\n",
       "      <th>...</th>\n",
       "      <td>...</td>\n",
       "      <td>...</td>\n",
       "      <td>...</td>\n",
       "      <td>...</td>\n",
       "      <td>...</td>\n",
       "      <td>...</td>\n",
       "      <td>...</td>\n",
       "      <td>...</td>\n",
       "      <td>...</td>\n",
       "      <td>...</td>\n",
       "    </tr>\n",
       "    <tr>\n",
       "      <th>10008</th>\n",
       "      <td>a100007281</td>\n",
       "      <td>2018-01-17</td>\n",
       "      <td>Email</td>\n",
       "      <td>control</td>\n",
       "      <td>True</td>\n",
       "      <td>German</td>\n",
       "      <td>30-36 years</td>\n",
       "      <td>1/17/2018</td>\n",
       "      <td>NaN</td>\n",
       "      <td>True</td>\n",
       "    </tr>\n",
       "    <tr>\n",
       "      <th>10018</th>\n",
       "      <td>a100007291</td>\n",
       "      <td>2018-01-17</td>\n",
       "      <td>Email</td>\n",
       "      <td>control</td>\n",
       "      <td>True</td>\n",
       "      <td>German</td>\n",
       "      <td>55+ years</td>\n",
       "      <td>1/17/2018</td>\n",
       "      <td>NaN</td>\n",
       "      <td>True</td>\n",
       "    </tr>\n",
       "    <tr>\n",
       "      <th>10019</th>\n",
       "      <td>a100007292</td>\n",
       "      <td>2018-01-05</td>\n",
       "      <td>Instagram</td>\n",
       "      <td>control</td>\n",
       "      <td>False</td>\n",
       "      <td>German</td>\n",
       "      <td>55+ years</td>\n",
       "      <td>1/17/2018</td>\n",
       "      <td>NaN</td>\n",
       "      <td>True</td>\n",
       "    </tr>\n",
       "    <tr>\n",
       "      <th>10020</th>\n",
       "      <td>a100007293</td>\n",
       "      <td>2018-01-17</td>\n",
       "      <td>Email</td>\n",
       "      <td>control</td>\n",
       "      <td>True</td>\n",
       "      <td>German</td>\n",
       "      <td>0-18 years</td>\n",
       "      <td>1/17/2018</td>\n",
       "      <td>NaN</td>\n",
       "      <td>True</td>\n",
       "    </tr>\n",
       "    <tr>\n",
       "      <th>10021</th>\n",
       "      <td>a100007294</td>\n",
       "      <td>2018-01-06</td>\n",
       "      <td>Facebook</td>\n",
       "      <td>control</td>\n",
       "      <td>False</td>\n",
       "      <td>German</td>\n",
       "      <td>0-18 years</td>\n",
       "      <td>1/17/2018</td>\n",
       "      <td>NaN</td>\n",
       "      <td>True</td>\n",
       "    </tr>\n",
       "  </tbody>\n",
       "</table>\n",
       "<p>1279 rows × 10 columns</p>\n",
       "</div>"
      ],
      "text/plain": [
       "          user_id date_served marketing_channel     test_control  converted  \\\n",
       "0      a100000029  2018-01-01         House Ads  personalization       True   \n",
       "1      a100000030  2018-01-01         House Ads  personalization       True   \n",
       "2      a100000031  2018-01-01         House Ads  personalization       True   \n",
       "3      a100000032  2018-01-01         House Ads  personalization       True   \n",
       "4      a100000033  2018-01-01         House Ads  personalization       True   \n",
       "...           ...         ...               ...              ...        ...   \n",
       "10008  a100007281  2018-01-17             Email          control       True   \n",
       "10018  a100007291  2018-01-17             Email          control       True   \n",
       "10019  a100007292  2018-01-05         Instagram          control      False   \n",
       "10020  a100007293  2018-01-17             Email          control       True   \n",
       "10021  a100007294  2018-01-06          Facebook          control      False   \n",
       "\n",
       "      language_preferred    age_group date_subscribed date_canceled  \\\n",
       "0                English   0-18 years        1/1/2018           NaN   \n",
       "1                English  19-24 years        1/1/2018           NaN   \n",
       "2                English  24-30 years        1/1/2018           NaN   \n",
       "3                English  30-36 years        1/1/2018           NaN   \n",
       "4                English  36-45 years        1/1/2018           NaN   \n",
       "...                  ...          ...             ...           ...   \n",
       "10008             German  30-36 years       1/17/2018           NaN   \n",
       "10018             German    55+ years       1/17/2018           NaN   \n",
       "10019             German    55+ years       1/17/2018           NaN   \n",
       "10020             German   0-18 years       1/17/2018           NaN   \n",
       "10021             German   0-18 years       1/17/2018           NaN   \n",
       "\n",
       "      is_retained  \n",
       "0            True  \n",
       "1            True  \n",
       "2            True  \n",
       "3            True  \n",
       "4            True  \n",
       "...           ...  \n",
       "10008        True  \n",
       "10018        True  \n",
       "10019        True  \n",
       "10020        True  \n",
       "10021        True  \n",
       "\n",
       "[1279 rows x 10 columns]"
      ]
     },
     "execution_count": 94,
     "metadata": {},
     "output_type": "execute_result"
    }
   ],
   "source": [
    "# Step two: put the boolean mask into the dataframe\n",
    "campaign.loc[campaign['is_retained']==True]     # 'loc' is to cut this 'window' or table out and show"
   ]
  },
  {
   "cell_type": "code",
   "execution_count": 35,
   "metadata": {},
   "outputs": [],
   "source": [
    "retained = campaign.loc[campaign['is_retained']==True]['user_id'].nunique()"
   ]
  },
  {
   "cell_type": "code",
   "execution_count": 96,
   "metadata": {},
   "outputs": [
    {
     "name": "stdout",
     "output_type": "stream",
     "text": [
      "678\n"
     ]
    }
   ],
   "source": [
    "print(retained)"
   ]
  },
  {
   "cell_type": "code",
   "execution_count": 32,
   "metadata": {},
   "outputs": [],
   "source": [
    "converted = campaign.loc[campaign['converted']==True]['user_id'].nunique()"
   ]
  },
  {
   "cell_type": "code",
   "execution_count": 33,
   "metadata": {},
   "outputs": [
    {
     "name": "stdout",
     "output_type": "stream",
     "text": [
      "1015\n"
     ]
    }
   ],
   "source": [
    "print(converted)"
   ]
  },
  {
   "cell_type": "code",
   "execution_count": 36,
   "metadata": {},
   "outputs": [],
   "source": [
    "retention_rate = retained / converted"
   ]
  },
  {
   "cell_type": "code",
   "execution_count": 37,
   "metadata": {
    "scrolled": true
   },
   "outputs": [
    {
     "name": "stdout",
     "output_type": "stream",
     "text": [
      "0.67\n"
     ]
    }
   ],
   "source": [
    "print(round(retention_rate,2))"
   ]
  },
  {
   "cell_type": "markdown",
   "metadata": {},
   "source": [
    "### Plot accumulative response rate by day:"
   ]
  },
  {
   "cell_type": "code",
   "execution_count": 38,
   "metadata": {},
   "outputs": [],
   "source": [
    "daily_responder=campaign.loc[campaign['converted']==True].groupby(['date_served'])['user_id'].nunique()\n",
    "# select 'date_served', distinct count('user_id') group by 'date_served' and coverted == True'"
   ]
  },
  {
   "cell_type": "code",
   "execution_count": 39,
   "metadata": {},
   "outputs": [],
   "source": [
    "daily_responder=campaign.loc[campaign['converted']==True].groupby(['date_served'])['user_id'].nunique()"
   ]
  },
  {
   "cell_type": "code",
   "execution_count": 40,
   "metadata": {},
   "outputs": [
    {
     "data": {
      "text/plain": [
       "date_served\n",
       "2018-01-01    36\n",
       "2018-01-02    37\n",
       "2018-01-03    36\n",
       "2018-01-04    35\n",
       "2018-01-05    40\n",
       "2018-01-06    35\n",
       "2018-01-07    39\n",
       "2018-01-08    36\n",
       "2018-01-09    39\n",
       "2018-01-10    40\n",
       "2018-01-11    25\n",
       "2018-01-12    23\n",
       "2018-01-13    26\n",
       "2018-01-14    26\n",
       "2018-01-15    87\n",
       "2018-01-16    99\n",
       "2018-01-17    81\n",
       "2018-01-18    29\n",
       "2018-01-19    18\n",
       "2018-01-20    21\n",
       "2018-01-21    20\n",
       "2018-01-22    22\n",
       "2018-01-23    21\n",
       "2018-01-24    22\n",
       "2018-01-25    23\n",
       "2018-01-26    20\n",
       "2018-01-27    21\n",
       "2018-01-28    20\n",
       "2018-01-29    19\n",
       "2018-01-30    21\n",
       "2018-01-31    18\n",
       "Name: user_id, dtype: int64"
      ]
     },
     "execution_count": 40,
     "metadata": {},
     "output_type": "execute_result"
    }
   ],
   "source": [
    "daily_responder"
   ]
  },
  {
   "cell_type": "code",
   "execution_count": 103,
   "metadata": {},
   "outputs": [
    {
     "data": {
      "text/plain": [
       "date_served\n",
       "2018-01-01      36\n",
       "2018-01-02      73\n",
       "2018-01-03     109\n",
       "2018-01-04     144\n",
       "2018-01-05     184\n",
       "2018-01-06     219\n",
       "2018-01-07     258\n",
       "2018-01-08     294\n",
       "2018-01-09     333\n",
       "2018-01-10     373\n",
       "2018-01-11     398\n",
       "2018-01-12     421\n",
       "2018-01-13     447\n",
       "2018-01-14     473\n",
       "2018-01-15     560\n",
       "2018-01-16     659\n",
       "2018-01-17     740\n",
       "2018-01-18     769\n",
       "2018-01-19     787\n",
       "2018-01-20     808\n",
       "2018-01-21     828\n",
       "2018-01-22     850\n",
       "2018-01-23     871\n",
       "2018-01-24     893\n",
       "2018-01-25     916\n",
       "2018-01-26     936\n",
       "2018-01-27     957\n",
       "2018-01-28     977\n",
       "2018-01-29     996\n",
       "2018-01-30    1017\n",
       "2018-01-31    1035\n",
       "Name: user_id, dtype: int64"
      ]
     },
     "execution_count": 103,
     "metadata": {},
     "output_type": "execute_result"
    }
   ],
   "source": [
    "daily_responder.cumsum()  # show for example on 'firth''sixth' day, how much have so far, cummulative"
   ]
  },
  {
   "cell_type": "code",
   "execution_count": 42,
   "metadata": {},
   "outputs": [
    {
     "data": {
      "text/plain": [
       "7294"
      ]
     },
     "execution_count": 42,
     "metadata": {},
     "output_type": "execute_result"
    }
   ],
   "source": [
    "campaign['user_id'].nunique()"
   ]
  },
  {
   "cell_type": "code",
   "execution_count": 41,
   "metadata": {},
   "outputs": [],
   "source": [
    "accu_response_by_day = daily_responder.cumsum() / campaign['user_id'].nunique()"
   ]
  },
  {
   "cell_type": "code",
   "execution_count": 43,
   "metadata": {},
   "outputs": [
    {
     "data": {
      "text/plain": [
       "<AxesSubplot:xlabel='date_served'>"
      ]
     },
     "execution_count": 43,
     "metadata": {},
     "output_type": "execute_result"
    },
    {
     "data": {
      "image/png": "[encoded data removed]",
      "text/plain": [
       "<Figure size 432x288 with 1 Axes>"
      ]
     },
     "metadata": {
      "needs_background": "light"
     },
     "output_type": "display_data"
    }
   ],
   "source": [
    "accu_response_by_day.plot()"
   ]
  },
  {
   "cell_type": "markdown",
   "metadata": {},
   "source": [
    "#### 2.3 Customer Segmentation analysis\n",
    " - Use segemetnation analysis to \n",
    "     - Analyze campaign performance by each segments\n",
    "     - Target profitable segments for next campaign\n",
    "     \n",
    " - Creating segmentation variables is the first step - usually this will happen in SQL"
   ]
  },
  {
   "cell_type": "code",
   "execution_count": 106,
   "metadata": {
    "scrolled": true
   },
   "outputs": [
    {
     "data": {
      "text/plain": [
       "marketing_channel\n",
       "Email         553\n",
       "Facebook     1758\n",
       "House Ads    3968\n",
       "Instagram    1740\n",
       "Push          972\n",
       "Name: user_id, dtype: int64"
      ]
     },
     "execution_count": 106,
     "metadata": {},
     "output_type": "execute_result"
    }
   ],
   "source": [
    "# Look at by marketing channel:     # select'marketing_channel', count'user_id' group by 'marketing_channel'\n",
    "campaign.groupby(['marketing_channel'])['user_id'].nunique()"
   ]
  },
  {
   "cell_type": "code",
   "execution_count": 107,
   "metadata": {},
   "outputs": [
    {
     "data": {
      "text/plain": [
       "marketing_channel\n",
       "Email        187\n",
       "Facebook     221\n",
       "House Ads    298\n",
       "Instagram    232\n",
       "Push          77\n",
       "Name: user_id, dtype: int64"
      ]
     },
     "execution_count": 107,
     "metadata": {},
     "output_type": "execute_result"
    }
   ],
   "source": [
    "# How many customers are converted in each marketing channel\n",
    "campaign.loc[campaign['converted']==True].groupby(['marketing_channel'])['user_id'].nunique()\n",
    "\n",
    " # select'marketing_channel', count 'user id'converted is true'' group by 'marketing_channel'"
   ]
  },
  {
   "cell_type": "markdown",
   "metadata": {},
   "source": [
    "Conversion rate by channel"
   ]
  },
  {
   "cell_type": "code",
   "execution_count": 46,
   "metadata": {},
   "outputs": [],
   "source": [
    "conversion_by_channel = campaign.loc[campaign['converted']==True].groupby(['marketing_channel'])['user_id'].nunique() / \\\n",
    "                        campaign.groupby(['marketing_channel'])['user_id'].nunique()\n",
    "     # select marketing_channel, count (distinct user_id) from campaign group by marketing channel     \n",
    "    \n",
    "    # last line   /   last last  line"
   ]
  },
  {
   "cell_type": "code",
   "execution_count": 47,
   "metadata": {},
   "outputs": [
    {
     "name": "stdout",
     "output_type": "stream",
     "text": [
      "marketing_channel\n",
      "Email        0.338156\n",
      "Facebook     0.125711\n",
      "House Ads    0.075101\n",
      "Instagram    0.133333\n",
      "Push         0.079218\n",
      "Name: user_id, dtype: float64\n"
     ]
    }
   ],
   "source": [
    "print(conversion_by_channel)"
   ]
  },
  {
   "cell_type": "code",
   "execution_count": 48,
   "metadata": {},
   "outputs": [
    {
     "data": {
      "image/png": "[encoded data removed]",
      "text/plain": [
       "<Figure size 432x288 with 1 Axes>"
      ]
     },
     "metadata": {
      "needs_background": "light"
     },
     "output_type": "display_data"
    }
   ],
   "source": [
    "#plot conversion rate by channel:\n",
    "\n",
    "# variablename.plot(kind='bar')  ------ present as bar chart\n",
    "\n",
    "import matplotlib.pyplot as plt\n",
    "\n",
    "# plot\n",
    "conversion_by_channel.plot(kind='bar')\n",
    "\n",
    "# annotate\n",
    "plt.title('conversion rate by channel')\n",
    "plt.xlabel('marketing channel')\n",
    "plt.ylabel('conversion rate')\n",
    "plt.show()"
   ]
  },
  {
   "cell_type": "markdown",
   "metadata": {},
   "source": [
    "#### Question: What is the retention rate by each marketing channel?"
   ]
  },
  {
   "cell_type": "markdown",
   "metadata": {},
   "source": [
    "Approach One:"
   ]
  },
  {
   "cell_type": "code",
   "execution_count": null,
   "metadata": {},
   "outputs": [],
   "source": [
    "# Retention rate = Number of people who remained / Total number of people who converted"
   ]
  },
  {
   "cell_type": "code",
   "execution_count": 49,
   "metadata": {},
   "outputs": [
    {
     "data": {
      "text/plain": [
       "marketing_channel\n",
       "Email        139\n",
       "Facebook     211\n",
       "House Ads    378\n",
       "Instagram    198\n",
       "Push          95\n",
       "Name: user_id, dtype: int64"
      ]
     },
     "execution_count": 49,
     "metadata": {},
     "output_type": "execute_result"
    }
   ],
   "source": [
    "campaign.loc[campaign['is_retained']==True].groupby(['marketing_channel'])['user_id'].nunique()"
   ]
  },
  {
   "cell_type": "code",
   "execution_count": 50,
   "metadata": {},
   "outputs": [
    {
     "data": {
      "text/plain": [
       "marketing_channel\n",
       "Email        187\n",
       "Facebook     221\n",
       "House Ads    298\n",
       "Instagram    232\n",
       "Push          77\n",
       "Name: user_id, dtype: int64"
      ]
     },
     "execution_count": 50,
     "metadata": {},
     "output_type": "execute_result"
    }
   ],
   "source": [
    "campaign.loc[campaign['converted']==True].groupby(['marketing_channel'])['user_id'].nunique()"
   ]
  },
  {
   "cell_type": "code",
   "execution_count": 51,
   "metadata": {
    "scrolled": true
   },
   "outputs": [
    {
     "data": {
      "text/plain": [
       "marketing_channel\n",
       "Email        0.743316\n",
       "Facebook     0.954751\n",
       "House Ads    1.268456\n",
       "Instagram    0.853448\n",
       "Push         1.233766\n",
       "Name: user_id, dtype: float64"
      ]
     },
     "execution_count": 51,
     "metadata": {},
     "output_type": "execute_result"
    }
   ],
   "source": [
    "retention_by_channel = campaign.loc[campaign['is_retained']==True].groupby(['marketing_channel'])['user_id'].nunique() / \\\n",
    "campaign.loc[campaign['converted']==True].groupby(['marketing_channel'])['user_id'].nunique() \n",
    "                        \n",
    "retention_by_channel"
   ]
  },
  {
   "cell_type": "code",
   "execution_count": 112,
   "metadata": {},
   "outputs": [
    {
     "name": "stdout",
     "output_type": "stream",
     "text": [
      "marketing_channel\n",
      "Email        0.743316\n",
      "Facebook     0.954751\n",
      "House Ads    1.268456\n",
      "Instagram    0.853448\n",
      "Push         1.233766\n",
      "Name: user_id, dtype: float64\n"
     ]
    }
   ],
   "source": [
    "print(retention_by_channel)      # the 'house ads' doesn't make sense because its higher"
   ]
  },
  {
   "cell_type": "markdown",
   "metadata": {},
   "source": [
    "#### Question: Why retention rate by channel can be larger than 1 when using Method One? something wrong with the data or the way we calculated?"
   ]
  },
  {
   "cell_type": "markdown",
   "metadata": {},
   "source": [
    "Let's do some **data investigations** - Data Investigation is a very important skill:"
   ]
  },
  {
   "cell_type": "markdown",
   "metadata": {},
   "source": [
    "Multiple filters\n",
    "\n",
    "The three things you know about using more than one filter are:\n",
    "1. Each filter must reference the data structure as if it was being used individually\n",
    "2. Each filter must be enclosed in parentheses, e.g. `df.loc[(df[\"col1\"]==1) & (df[\"col2\"]==5)]`\n",
    "3. Connect filters with the operators: ampersand (`&`) to represent \"AND\" or pipe (`|`) to repesent \"OR\"."
   ]
  },
  {
   "cell_type": "code",
   "execution_count": 113,
   "metadata": {},
   "outputs": [
    {
     "data": {
      "text/html": [
       "<div>\n",
       "<style scoped>\n",
       "    .dataframe tbody tr th:only-of-type {\n",
       "        vertical-align: middle;\n",
       "    }\n",
       "\n",
       "    .dataframe tbody tr th {\n",
       "        vertical-align: top;\n",
       "    }\n",
       "\n",
       "    .dataframe thead th {\n",
       "        text-align: right;\n",
       "    }\n",
       "</style>\n",
       "<table border=\"1\" class=\"dataframe\">\n",
       "  <thead>\n",
       "    <tr style=\"text-align: right;\">\n",
       "      <th></th>\n",
       "      <th>user_id</th>\n",
       "      <th>date_served</th>\n",
       "      <th>marketing_channel</th>\n",
       "      <th>test_control</th>\n",
       "      <th>converted</th>\n",
       "      <th>language_preferred</th>\n",
       "      <th>age_group</th>\n",
       "      <th>date_subscribed</th>\n",
       "      <th>date_canceled</th>\n",
       "      <th>is_retained</th>\n",
       "    </tr>\n",
       "  </thead>\n",
       "  <tbody>\n",
       "    <tr>\n",
       "      <th>22</th>\n",
       "      <td>a100000050</td>\n",
       "      <td>2018-01-01</td>\n",
       "      <td>House Ads</td>\n",
       "      <td>personalization</td>\n",
       "      <td>False</td>\n",
       "      <td>English</td>\n",
       "      <td>24-30 years</td>\n",
       "      <td>1/2/2018</td>\n",
       "      <td>NaN</td>\n",
       "      <td>True</td>\n",
       "    </tr>\n",
       "    <tr>\n",
       "      <th>24</th>\n",
       "      <td>a100000051</td>\n",
       "      <td>2018-01-01</td>\n",
       "      <td>Push</td>\n",
       "      <td>personalization</td>\n",
       "      <td>False</td>\n",
       "      <td>English</td>\n",
       "      <td>30-36 years</td>\n",
       "      <td>1/2/2018</td>\n",
       "      <td>NaN</td>\n",
       "      <td>True</td>\n",
       "    </tr>\n",
       "    <tr>\n",
       "      <th>26</th>\n",
       "      <td>a100000052</td>\n",
       "      <td>2018-01-01</td>\n",
       "      <td>House Ads</td>\n",
       "      <td>personalization</td>\n",
       "      <td>False</td>\n",
       "      <td>English</td>\n",
       "      <td>36-45 years</td>\n",
       "      <td>1/2/2018</td>\n",
       "      <td>NaN</td>\n",
       "      <td>True</td>\n",
       "    </tr>\n",
       "    <tr>\n",
       "      <th>28</th>\n",
       "      <td>a100000053</td>\n",
       "      <td>2018-01-01</td>\n",
       "      <td>House Ads</td>\n",
       "      <td>personalization</td>\n",
       "      <td>False</td>\n",
       "      <td>English</td>\n",
       "      <td>45-55 years</td>\n",
       "      <td>1/2/2018</td>\n",
       "      <td>NaN</td>\n",
       "      <td>True</td>\n",
       "    </tr>\n",
       "    <tr>\n",
       "      <th>30</th>\n",
       "      <td>a100000054</td>\n",
       "      <td>2018-01-01</td>\n",
       "      <td>House Ads</td>\n",
       "      <td>personalization</td>\n",
       "      <td>False</td>\n",
       "      <td>English</td>\n",
       "      <td>55+ years</td>\n",
       "      <td>1/2/2018</td>\n",
       "      <td>NaN</td>\n",
       "      <td>True</td>\n",
       "    </tr>\n",
       "    <tr>\n",
       "      <th>...</th>\n",
       "      <td>...</td>\n",
       "      <td>...</td>\n",
       "      <td>...</td>\n",
       "      <td>...</td>\n",
       "      <td>...</td>\n",
       "      <td>...</td>\n",
       "      <td>...</td>\n",
       "      <td>...</td>\n",
       "      <td>...</td>\n",
       "      <td>...</td>\n",
       "    </tr>\n",
       "    <tr>\n",
       "      <th>9985</th>\n",
       "      <td>a100007258</td>\n",
       "      <td>2018-01-15</td>\n",
       "      <td>Email</td>\n",
       "      <td>personalization</td>\n",
       "      <td>False</td>\n",
       "      <td>German</td>\n",
       "      <td>24-30 years</td>\n",
       "      <td>1/15/2018</td>\n",
       "      <td>NaN</td>\n",
       "      <td>True</td>\n",
       "    </tr>\n",
       "    <tr>\n",
       "      <th>9993</th>\n",
       "      <td>a100007266</td>\n",
       "      <td>2018-01-16</td>\n",
       "      <td>Email</td>\n",
       "      <td>personalization</td>\n",
       "      <td>False</td>\n",
       "      <td>German</td>\n",
       "      <td>24-30 years</td>\n",
       "      <td>1/16/2018</td>\n",
       "      <td>NaN</td>\n",
       "      <td>True</td>\n",
       "    </tr>\n",
       "    <tr>\n",
       "      <th>10005</th>\n",
       "      <td>a100007278</td>\n",
       "      <td>2018-01-16</td>\n",
       "      <td>Email</td>\n",
       "      <td>control</td>\n",
       "      <td>False</td>\n",
       "      <td>German</td>\n",
       "      <td>0-18 years</td>\n",
       "      <td>1/16/2018</td>\n",
       "      <td>NaN</td>\n",
       "      <td>True</td>\n",
       "    </tr>\n",
       "    <tr>\n",
       "      <th>10019</th>\n",
       "      <td>a100007292</td>\n",
       "      <td>2018-01-05</td>\n",
       "      <td>Instagram</td>\n",
       "      <td>control</td>\n",
       "      <td>False</td>\n",
       "      <td>German</td>\n",
       "      <td>55+ years</td>\n",
       "      <td>1/17/2018</td>\n",
       "      <td>NaN</td>\n",
       "      <td>True</td>\n",
       "    </tr>\n",
       "    <tr>\n",
       "      <th>10021</th>\n",
       "      <td>a100007294</td>\n",
       "      <td>2018-01-06</td>\n",
       "      <td>Facebook</td>\n",
       "      <td>control</td>\n",
       "      <td>False</td>\n",
       "      <td>German</td>\n",
       "      <td>0-18 years</td>\n",
       "      <td>1/17/2018</td>\n",
       "      <td>NaN</td>\n",
       "      <td>True</td>\n",
       "    </tr>\n",
       "  </tbody>\n",
       "</table>\n",
       "<p>578 rows × 10 columns</p>\n",
       "</div>"
      ],
      "text/plain": [
       "          user_id date_served marketing_channel     test_control  converted  \\\n",
       "22     a100000050  2018-01-01         House Ads  personalization      False   \n",
       "24     a100000051  2018-01-01              Push  personalization      False   \n",
       "26     a100000052  2018-01-01         House Ads  personalization      False   \n",
       "28     a100000053  2018-01-01         House Ads  personalization      False   \n",
       "30     a100000054  2018-01-01         House Ads  personalization      False   \n",
       "...           ...         ...               ...              ...        ...   \n",
       "9985   a100007258  2018-01-15             Email  personalization      False   \n",
       "9993   a100007266  2018-01-16             Email  personalization      False   \n",
       "10005  a100007278  2018-01-16             Email          control      False   \n",
       "10019  a100007292  2018-01-05         Instagram          control      False   \n",
       "10021  a100007294  2018-01-06          Facebook          control      False   \n",
       "\n",
       "      language_preferred    age_group date_subscribed date_canceled  \\\n",
       "22               English  24-30 years        1/2/2018           NaN   \n",
       "24               English  30-36 years        1/2/2018           NaN   \n",
       "26               English  36-45 years        1/2/2018           NaN   \n",
       "28               English  45-55 years        1/2/2018           NaN   \n",
       "30               English    55+ years        1/2/2018           NaN   \n",
       "...                  ...          ...             ...           ...   \n",
       "9985              German  24-30 years       1/15/2018           NaN   \n",
       "9993              German  24-30 years       1/16/2018           NaN   \n",
       "10005             German   0-18 years       1/16/2018           NaN   \n",
       "10019             German    55+ years       1/17/2018           NaN   \n",
       "10021             German   0-18 years       1/17/2018           NaN   \n",
       "\n",
       "      is_retained  \n",
       "22           True  \n",
       "24           True  \n",
       "26           True  \n",
       "28           True  \n",
       "30           True  \n",
       "...           ...  \n",
       "9985         True  \n",
       "9993         True  \n",
       "10005        True  \n",
       "10019        True  \n",
       "10021        True  \n",
       "\n",
       "[578 rows x 10 columns]"
      ]
     },
     "execution_count": 113,
     "metadata": {},
     "output_type": "execute_result"
    }
   ],
   "source": [
    "campaign.loc[(campaign['converted']==False) & (campaign['is_retained']==True)] # cut or filter this window out"
   ]
  },
  {
   "cell_type": "code",
   "execution_count": 114,
   "metadata": {
    "scrolled": true
   },
   "outputs": [
    {
     "data": {
      "text/html": [
       "<div>\n",
       "<style scoped>\n",
       "    .dataframe tbody tr th:only-of-type {\n",
       "        vertical-align: middle;\n",
       "    }\n",
       "\n",
       "    .dataframe tbody tr th {\n",
       "        vertical-align: top;\n",
       "    }\n",
       "\n",
       "    .dataframe thead th {\n",
       "        text-align: right;\n",
       "    }\n",
       "</style>\n",
       "<table border=\"1\" class=\"dataframe\">\n",
       "  <thead>\n",
       "    <tr style=\"text-align: right;\">\n",
       "      <th></th>\n",
       "      <th>user_id</th>\n",
       "      <th>date_served</th>\n",
       "      <th>marketing_channel</th>\n",
       "      <th>test_control</th>\n",
       "      <th>converted</th>\n",
       "      <th>language_preferred</th>\n",
       "      <th>age_group</th>\n",
       "      <th>date_subscribed</th>\n",
       "      <th>date_canceled</th>\n",
       "      <th>is_retained</th>\n",
       "    </tr>\n",
       "  </thead>\n",
       "  <tbody>\n",
       "    <tr>\n",
       "      <th>21</th>\n",
       "      <td>a100000050</td>\n",
       "      <td>2018-01-02</td>\n",
       "      <td>House Ads</td>\n",
       "      <td>personalization</td>\n",
       "      <td>True</td>\n",
       "      <td>English</td>\n",
       "      <td>24-30 years</td>\n",
       "      <td>1/2/2018</td>\n",
       "      <td>NaN</td>\n",
       "      <td>True</td>\n",
       "    </tr>\n",
       "    <tr>\n",
       "      <th>22</th>\n",
       "      <td>a100000050</td>\n",
       "      <td>2018-01-01</td>\n",
       "      <td>House Ads</td>\n",
       "      <td>personalization</td>\n",
       "      <td>False</td>\n",
       "      <td>English</td>\n",
       "      <td>24-30 years</td>\n",
       "      <td>1/2/2018</td>\n",
       "      <td>NaN</td>\n",
       "      <td>True</td>\n",
       "    </tr>\n",
       "  </tbody>\n",
       "</table>\n",
       "</div>"
      ],
      "text/plain": [
       "       user_id date_served marketing_channel     test_control  converted  \\\n",
       "21  a100000050  2018-01-02         House Ads  personalization       True   \n",
       "22  a100000050  2018-01-01         House Ads  personalization      False   \n",
       "\n",
       "   language_preferred    age_group date_subscribed date_canceled is_retained  \n",
       "21            English  24-30 years        1/2/2018           NaN        True  \n",
       "22            English  24-30 years        1/2/2018           NaN        True  "
      ]
     },
     "execution_count": 114,
     "metadata": {},
     "output_type": "execute_result"
    }
   ],
   "source": [
    "campaign.loc[campaign['user_id']=='a100000050']  # this can't explain why the number of retained user can be larger than converted"
   ]
  },
  {
   "cell_type": "code",
   "execution_count": 52,
   "metadata": {},
   "outputs": [],
   "source": [
    "inv_id=campaign.loc[(campaign['converted']==False) & (campaign['is_retained']==True)]['user_id']"
   ]
  },
  {
   "cell_type": "code",
   "execution_count": 53,
   "metadata": {},
   "outputs": [
    {
     "data": {
      "text/plain": [
       "22       a100000050\n",
       "24       a100000051\n",
       "26       a100000052\n",
       "28       a100000053\n",
       "30       a100000054\n",
       "            ...    \n",
       "9985     a100007258\n",
       "9993     a100007266\n",
       "10005    a100007278\n",
       "10019    a100007292\n",
       "10021    a100007294\n",
       "Name: user_id, Length: 578, dtype: object"
      ]
     },
     "execution_count": 53,
     "metadata": {},
     "output_type": "execute_result"
    }
   ],
   "source": [
    "inv_id  # these user_id which converted is false and retained is true"
   ]
  },
  {
   "cell_type": "markdown",
   "metadata": {},
   "source": [
    "**Does it make sense to look at Retention rate by differet marketing channels??**"
   ]
  },
  {
   "cell_type": "code",
   "execution_count": null,
   "metadata": {},
   "outputs": [],
   "source": [
    "# can be rate bu different age, language too"
   ]
  },
  {
   "cell_type": "markdown",
   "metadata": {},
   "source": [
    "##### 2.3.2 Customer Segmentation analysis by more than one segments"
   ]
  },
  {
   "cell_type": "code",
   "execution_count": 55,
   "metadata": {},
   "outputs": [],
   "source": [
    "language_age_convert=campaign.loc[campaign['converted']==True].groupby(['language_preferred', 'age_group'])['user_id'].nunique()\n",
    "\n",
    "# select 'language_preferred' 'age_group' count distinct('user_id') from campaign group by 'user_id' having 'converted'==True\n"
   ]
  },
  {
   "cell_type": "code",
   "execution_count": 56,
   "metadata": {},
   "outputs": [
    {
     "name": "stdout",
     "output_type": "stream",
     "text": [
      "language_preferred  age_group  \n",
      "Arabic              0-18 years       4\n",
      "                    19-24 years      2\n",
      "                    24-30 years      8\n",
      "                    36-45 years      1\n",
      "                    45-55 years      3\n",
      "                    55+ years        1\n",
      "English             0-18 years     168\n",
      "                    19-24 years    281\n",
      "                    24-30 years    201\n",
      "                    30-36 years     69\n",
      "                    36-45 years     65\n",
      "                    45-55 years     61\n",
      "                    55+ years       66\n",
      "German              0-18 years      13\n",
      "                    19-24 years     14\n",
      "                    24-30 years     17\n",
      "                    30-36 years      3\n",
      "                    36-45 years      4\n",
      "                    45-55 years      6\n",
      "                    55+ years        2\n",
      "Spanish             0-18 years       7\n",
      "                    19-24 years      6\n",
      "                    24-30 years      2\n",
      "                    30-36 years      5\n",
      "                    36-45 years      4\n",
      "                    45-55 years      5\n",
      "                    55+ years        7\n",
      "Name: user_id, dtype: int64\n"
     ]
    }
   ],
   "source": [
    "print(language_age_convert)"
   ]
  },
  {
   "cell_type": "code",
   "execution_count": 58,
   "metadata": {},
   "outputs": [
    {
     "data": {
      "text/plain": [
       "pandas.core.series.Series"
      ]
     },
     "execution_count": 58,
     "metadata": {},
     "output_type": "execute_result"
    }
   ],
   "source": [
    "type(language_age_convert)"
   ]
  },
  {
   "cell_type": "markdown",
   "metadata": {},
   "source": [
    "Unstack the result to a DataFrame, so that we can plot"
   ]
  },
  {
   "cell_type": "code",
   "execution_count": 59,
   "metadata": {},
   "outputs": [],
   "source": [
    "df_language_age_convert=language_age_convert.unstack()  # .unstack() kind of like pivot table, make the table turn direction"
   ]
  },
  {
   "cell_type": "code",
   "execution_count": 61,
   "metadata": {},
   "outputs": [
    {
     "data": {
      "text/html": [
       "<div>\n",
       "<style scoped>\n",
       "    .dataframe tbody tr th:only-of-type {\n",
       "        vertical-align: middle;\n",
       "    }\n",
       "\n",
       "    .dataframe tbody tr th {\n",
       "        vertical-align: top;\n",
       "    }\n",
       "\n",
       "    .dataframe thead th {\n",
       "        text-align: right;\n",
       "    }\n",
       "</style>\n",
       "<table border=\"1\" class=\"dataframe\">\n",
       "  <thead>\n",
       "    <tr style=\"text-align: right;\">\n",
       "      <th>age_group</th>\n",
       "      <th>0-18 years</th>\n",
       "      <th>19-24 years</th>\n",
       "      <th>24-30 years</th>\n",
       "      <th>30-36 years</th>\n",
       "      <th>36-45 years</th>\n",
       "      <th>45-55 years</th>\n",
       "      <th>55+ years</th>\n",
       "    </tr>\n",
       "    <tr>\n",
       "      <th>language_preferred</th>\n",
       "      <th></th>\n",
       "      <th></th>\n",
       "      <th></th>\n",
       "      <th></th>\n",
       "      <th></th>\n",
       "      <th></th>\n",
       "      <th></th>\n",
       "    </tr>\n",
       "  </thead>\n",
       "  <tbody>\n",
       "    <tr>\n",
       "      <th>Arabic</th>\n",
       "      <td>4.0</td>\n",
       "      <td>2.0</td>\n",
       "      <td>8.0</td>\n",
       "      <td>NaN</td>\n",
       "      <td>1.0</td>\n",
       "      <td>3.0</td>\n",
       "      <td>1.0</td>\n",
       "    </tr>\n",
       "    <tr>\n",
       "      <th>English</th>\n",
       "      <td>168.0</td>\n",
       "      <td>281.0</td>\n",
       "      <td>201.0</td>\n",
       "      <td>69.0</td>\n",
       "      <td>65.0</td>\n",
       "      <td>61.0</td>\n",
       "      <td>66.0</td>\n",
       "    </tr>\n",
       "    <tr>\n",
       "      <th>German</th>\n",
       "      <td>13.0</td>\n",
       "      <td>14.0</td>\n",
       "      <td>17.0</td>\n",
       "      <td>3.0</td>\n",
       "      <td>4.0</td>\n",
       "      <td>6.0</td>\n",
       "      <td>2.0</td>\n",
       "    </tr>\n",
       "    <tr>\n",
       "      <th>Spanish</th>\n",
       "      <td>7.0</td>\n",
       "      <td>6.0</td>\n",
       "      <td>2.0</td>\n",
       "      <td>5.0</td>\n",
       "      <td>4.0</td>\n",
       "      <td>5.0</td>\n",
       "      <td>7.0</td>\n",
       "    </tr>\n",
       "  </tbody>\n",
       "</table>\n",
       "</div>"
      ],
      "text/plain": [
       "age_group           0-18 years  19-24 years  24-30 years  30-36 years  \\\n",
       "language_preferred                                                      \n",
       "Arabic                     4.0          2.0          8.0          NaN   \n",
       "English                  168.0        281.0        201.0         69.0   \n",
       "German                    13.0         14.0         17.0          3.0   \n",
       "Spanish                    7.0          6.0          2.0          5.0   \n",
       "\n",
       "age_group           36-45 years  45-55 years  55+ years  \n",
       "language_preferred                                       \n",
       "Arabic                      1.0          3.0        1.0  \n",
       "English                    65.0         61.0       66.0  \n",
       "German                      4.0          6.0        2.0  \n",
       "Spanish                     4.0          5.0        7.0  "
      ]
     },
     "execution_count": 61,
     "metadata": {},
     "output_type": "execute_result"
    }
   ],
   "source": [
    "df_language_age_convert"
   ]
  },
  {
   "cell_type": "code",
   "execution_count": 60,
   "metadata": {},
   "outputs": [
    {
     "name": "stdout",
     "output_type": "stream",
     "text": [
      "age_group           0-18 years  19-24 years  24-30 years  30-36 years  \\\n",
      "language_preferred                                                      \n",
      "Arabic                     4.0          2.0          8.0          NaN   \n",
      "English                  168.0        281.0        201.0         69.0   \n",
      "German                    13.0         14.0         17.0          3.0   \n",
      "Spanish                    7.0          6.0          2.0          5.0   \n",
      "\n",
      "age_group           36-45 years  45-55 years  55+ years  \n",
      "language_preferred                                       \n",
      "Arabic                      1.0          3.0        1.0  \n",
      "English                    65.0         61.0       66.0  \n",
      "German                      4.0          6.0        2.0  \n",
      "Spanish                     4.0          5.0        7.0  \n"
     ]
    }
   ],
   "source": [
    "print(df_language_age_convert)"
   ]
  },
  {
   "cell_type": "code",
   "execution_count": 62,
   "metadata": {},
   "outputs": [
    {
     "data": {
      "image/png": "[encoded data removed]",
      "text/plain": [
       "<Figure size 432x288 with 1 Axes>"
      ]
     },
     "metadata": {
      "needs_background": "light"
     },
     "output_type": "display_data"
    }
   ],
   "source": [
    "# plot\n",
    "df_language_age_convert.plot(kind='bar')\n",
    "\n",
    "# annotate\n",
    "plt.title('number of users by language and age')\n",
    "plt.xlabel('language')\n",
    "plt.ylabel('number of users')\n",
    "plt.show()"
   ]
  },
  {
   "cell_type": "markdown",
   "metadata": {},
   "source": [
    "#### Question: Looking at the number of **converted users** by these 2 segments are not very informative.\n",
    "Should we look at conversion rate by language and age?"
   ]
  },
  {
   "cell_type": "code",
   "execution_count": 72,
   "metadata": {},
   "outputs": [
    {
     "data": {
      "text/plain": [
       "language_preferred  age_group  \n",
       "Arabic              0-18 years       16\n",
       "                    19-24 years      18\n",
       "                    24-30 years      16\n",
       "                    30-36 years      12\n",
       "                    36-45 years      13\n",
       "                    45-55 years      14\n",
       "                    55+ years        17\n",
       "English             0-18 years     1124\n",
       "                    19-24 years    1215\n",
       "                    24-30 years    1119\n",
       "                    30-36 years     976\n",
       "                    36-45 years     991\n",
       "                    45-55 years     976\n",
       "                    55+ years       920\n",
       "German              0-18 years       24\n",
       "                    19-24 years      23\n",
       "                    24-30 years      29\n",
       "                    30-36 years      12\n",
       "                    36-45 years      14\n",
       "                    45-55 years      20\n",
       "                    55+ years         9\n",
       "Spanish             0-18 years       43\n",
       "                    19-24 years      51\n",
       "                    24-30 years      54\n",
       "                    30-36 years      57\n",
       "                    36-45 years      39\n",
       "                    45-55 years      47\n",
       "                    55+ years        34\n",
       "Name: user_id, dtype: int64"
      ]
     },
     "execution_count": 72,
     "metadata": {},
     "output_type": "execute_result"
    }
   ],
   "source": [
    "language_age=campaign.groupby(['language_preferred', 'age_group'])['user_id'].nunique()\n",
    "language_age\n",
    "# select 'language_preferred', 'age_group' count distinct 'user_id' from campaign group by 'user_id'"
   ]
  },
  {
   "cell_type": "code",
   "execution_count": 69,
   "metadata": {},
   "outputs": [
    {
     "data": {
      "text/plain": [
       "language_preferred  age_group  \n",
       "Arabic              0-18 years       4\n",
       "                    19-24 years      2\n",
       "                    24-30 years      8\n",
       "                    36-45 years      1\n",
       "                    45-55 years      3\n",
       "                    55+ years        1\n",
       "English             0-18 years     168\n",
       "                    19-24 years    281\n",
       "                    24-30 years    201\n",
       "                    30-36 years     69\n",
       "                    36-45 years     65\n",
       "                    45-55 years     61\n",
       "                    55+ years       66\n",
       "German              0-18 years      13\n",
       "                    19-24 years     14\n",
       "                    24-30 years     17\n",
       "                    30-36 years      3\n",
       "                    36-45 years      4\n",
       "                    45-55 years      6\n",
       "                    55+ years        2\n",
       "Spanish             0-18 years       7\n",
       "                    19-24 years      6\n",
       "                    24-30 years      2\n",
       "                    30-36 years      5\n",
       "                    36-45 years      4\n",
       "                    45-55 years      5\n",
       "                    55+ years        7\n",
       "Name: user_id, dtype: int64"
      ]
     },
     "execution_count": 69,
     "metadata": {},
     "output_type": "execute_result"
    }
   ],
   "source": [
    "language_age_converted=campaign.loc[campaign['converted']==True].groupby(['language_preferred', 'age_group'])['user_id'].nunique()\n",
    "language_age_converted\n",
    "\n",
    "# select 'language_preferred' 'age_group' count distinct('user_id') from campaign group by 'user_id' having 'converted'==True"
   ]
  },
  {
   "cell_type": "code",
   "execution_count": 71,
   "metadata": {},
   "outputs": [
    {
     "data": {
      "text/plain": [
       "language_preferred  age_group  \n",
       "Arabic              0-18 years     0.250000\n",
       "                    19-24 years    0.111111\n",
       "                    24-30 years    0.500000\n",
       "                    30-36 years         NaN\n",
       "                    36-45 years    0.076923\n",
       "                    45-55 years    0.214286\n",
       "                    55+ years      0.058824\n",
       "English             0-18 years     0.149466\n",
       "                    19-24 years    0.231276\n",
       "                    24-30 years    0.179625\n",
       "                    30-36 years    0.070697\n",
       "                    36-45 years    0.065590\n",
       "                    45-55 years    0.062500\n",
       "                    55+ years      0.071739\n",
       "German              0-18 years     0.541667\n",
       "                    19-24 years    0.608696\n",
       "                    24-30 years    0.586207\n",
       "                    30-36 years    0.250000\n",
       "                    36-45 years    0.285714\n",
       "                    45-55 years    0.300000\n",
       "                    55+ years      0.222222\n",
       "Spanish             0-18 years     0.162791\n",
       "                    19-24 years    0.117647\n",
       "                    24-30 years    0.037037\n",
       "                    30-36 years    0.087719\n",
       "                    36-45 years    0.102564\n",
       "                    45-55 years    0.106383\n",
       "                    55+ years      0.205882\n",
       "Name: user_id, dtype: float64"
      ]
     },
     "execution_count": 71,
     "metadata": {},
     "output_type": "execute_result"
    }
   ],
   "source": [
    "df_language_age_convt_rate=language_age_converted/language_age\n",
    "df_language_age_convt_rate"
   ]
  },
  {
   "cell_type": "code",
   "execution_count": 76,
   "metadata": {},
   "outputs": [
    {
     "data": {
      "text/html": [
       "<div>\n",
       "<style scoped>\n",
       "    .dataframe tbody tr th:only-of-type {\n",
       "        vertical-align: middle;\n",
       "    }\n",
       "\n",
       "    .dataframe tbody tr th {\n",
       "        vertical-align: top;\n",
       "    }\n",
       "\n",
       "    .dataframe thead th {\n",
       "        text-align: right;\n",
       "    }\n",
       "</style>\n",
       "<table border=\"1\" class=\"dataframe\">\n",
       "  <thead>\n",
       "    <tr style=\"text-align: right;\">\n",
       "      <th></th>\n",
       "      <th></th>\n",
       "      <th></th>\n",
       "      <th>0</th>\n",
       "    </tr>\n",
       "    <tr>\n",
       "      <th></th>\n",
       "      <th>language_preferred</th>\n",
       "      <th>age_group</th>\n",
       "      <th></th>\n",
       "    </tr>\n",
       "  </thead>\n",
       "  <tbody>\n",
       "    <tr>\n",
       "      <th rowspan=\"28\" valign=\"top\">0</th>\n",
       "      <th rowspan=\"7\" valign=\"top\">Arabic</th>\n",
       "      <th>0-18 years</th>\n",
       "      <td>0.250000</td>\n",
       "    </tr>\n",
       "    <tr>\n",
       "      <th>19-24 years</th>\n",
       "      <td>0.111111</td>\n",
       "    </tr>\n",
       "    <tr>\n",
       "      <th>24-30 years</th>\n",
       "      <td>0.500000</td>\n",
       "    </tr>\n",
       "    <tr>\n",
       "      <th>30-36 years</th>\n",
       "      <td>NaN</td>\n",
       "    </tr>\n",
       "    <tr>\n",
       "      <th>36-45 years</th>\n",
       "      <td>0.076923</td>\n",
       "    </tr>\n",
       "    <tr>\n",
       "      <th>45-55 years</th>\n",
       "      <td>0.214286</td>\n",
       "    </tr>\n",
       "    <tr>\n",
       "      <th>55+ years</th>\n",
       "      <td>0.058824</td>\n",
       "    </tr>\n",
       "    <tr>\n",
       "      <th rowspan=\"7\" valign=\"top\">English</th>\n",
       "      <th>0-18 years</th>\n",
       "      <td>0.149466</td>\n",
       "    </tr>\n",
       "    <tr>\n",
       "      <th>19-24 years</th>\n",
       "      <td>0.231276</td>\n",
       "    </tr>\n",
       "    <tr>\n",
       "      <th>24-30 years</th>\n",
       "      <td>0.179625</td>\n",
       "    </tr>\n",
       "    <tr>\n",
       "      <th>30-36 years</th>\n",
       "      <td>0.070697</td>\n",
       "    </tr>\n",
       "    <tr>\n",
       "      <th>36-45 years</th>\n",
       "      <td>0.065590</td>\n",
       "    </tr>\n",
       "    <tr>\n",
       "      <th>45-55 years</th>\n",
       "      <td>0.062500</td>\n",
       "    </tr>\n",
       "    <tr>\n",
       "      <th>55+ years</th>\n",
       "      <td>0.071739</td>\n",
       "    </tr>\n",
       "    <tr>\n",
       "      <th rowspan=\"7\" valign=\"top\">German</th>\n",
       "      <th>0-18 years</th>\n",
       "      <td>0.541667</td>\n",
       "    </tr>\n",
       "    <tr>\n",
       "      <th>19-24 years</th>\n",
       "      <td>0.608696</td>\n",
       "    </tr>\n",
       "    <tr>\n",
       "      <th>24-30 years</th>\n",
       "      <td>0.586207</td>\n",
       "    </tr>\n",
       "    <tr>\n",
       "      <th>30-36 years</th>\n",
       "      <td>0.250000</td>\n",
       "    </tr>\n",
       "    <tr>\n",
       "      <th>36-45 years</th>\n",
       "      <td>0.285714</td>\n",
       "    </tr>\n",
       "    <tr>\n",
       "      <th>45-55 years</th>\n",
       "      <td>0.300000</td>\n",
       "    </tr>\n",
       "    <tr>\n",
       "      <th>55+ years</th>\n",
       "      <td>0.222222</td>\n",
       "    </tr>\n",
       "    <tr>\n",
       "      <th rowspan=\"7\" valign=\"top\">Spanish</th>\n",
       "      <th>0-18 years</th>\n",
       "      <td>0.162791</td>\n",
       "    </tr>\n",
       "    <tr>\n",
       "      <th>19-24 years</th>\n",
       "      <td>0.117647</td>\n",
       "    </tr>\n",
       "    <tr>\n",
       "      <th>24-30 years</th>\n",
       "      <td>0.037037</td>\n",
       "    </tr>\n",
       "    <tr>\n",
       "      <th>30-36 years</th>\n",
       "      <td>0.087719</td>\n",
       "    </tr>\n",
       "    <tr>\n",
       "      <th>36-45 years</th>\n",
       "      <td>0.102564</td>\n",
       "    </tr>\n",
       "    <tr>\n",
       "      <th>45-55 years</th>\n",
       "      <td>0.106383</td>\n",
       "    </tr>\n",
       "    <tr>\n",
       "      <th>55+ years</th>\n",
       "      <td>0.205882</td>\n",
       "    </tr>\n",
       "  </tbody>\n",
       "</table>\n",
       "</div>"
      ],
      "text/plain": [
       "                                         0\n",
       "  language_preferred age_group            \n",
       "0 Arabic             0-18 years   0.250000\n",
       "                     19-24 years  0.111111\n",
       "                     24-30 years  0.500000\n",
       "                     30-36 years       NaN\n",
       "                     36-45 years  0.076923\n",
       "                     45-55 years  0.214286\n",
       "                     55+ years    0.058824\n",
       "  English            0-18 years   0.149466\n",
       "                     19-24 years  0.231276\n",
       "                     24-30 years  0.179625\n",
       "                     30-36 years  0.070697\n",
       "                     36-45 years  0.065590\n",
       "                     45-55 years  0.062500\n",
       "                     55+ years    0.071739\n",
       "  German             0-18 years   0.541667\n",
       "                     19-24 years  0.608696\n",
       "                     24-30 years  0.586207\n",
       "                     30-36 years  0.250000\n",
       "                     36-45 years  0.285714\n",
       "                     45-55 years  0.300000\n",
       "                     55+ years    0.222222\n",
       "  Spanish            0-18 years   0.162791\n",
       "                     19-24 years  0.117647\n",
       "                     24-30 years  0.037037\n",
       "                     30-36 years  0.087719\n",
       "                     36-45 years  0.102564\n",
       "                     45-55 years  0.106383\n",
       "                     55+ years    0.205882"
      ]
     },
     "execution_count": 76,
     "metadata": {},
     "output_type": "execute_result"
    }
   ],
   "source": [
    "df_language_age_convt_rate=pd.DataFrame(df_language_age_convt_rate.unstack()) # here unstack again \n",
    "df_language_age_convt_rate\n",
    "\n",
    "# last line / last last line"
   ]
  },
  {
   "cell_type": "code",
   "execution_count": 77,
   "metadata": {},
   "outputs": [
    {
     "data": {
      "image/png": "[encoded data removed]",
      "text/plain": [
       "<Figure size 432x288 with 1 Axes>"
      ]
     },
     "metadata": {
      "needs_background": "light"
     },
     "output_type": "display_data"
    }
   ],
   "source": [
    "# plot\n",
    "df_language_age_convt_rate.plot(kind='bar')\n",
    "\n",
    "# annotate\n",
    "plt.title('conversion rate by language and age')\n",
    "plt.xlabel('language')\n",
    "plt.ylabel('conversion rate')\n",
    "plt.show()"
   ]
  },
  {
   "cell_type": "markdown",
   "metadata": {},
   "source": [
    "### 3. A/B Testing\n",
    "\n",
    "What is A/B testing:\n",
    "\n",
    "- A/B testing, sometimes referred to as split testing, is the process of comparing two different marketing strategies to determine which one performs better\n",
    "- Testing allows us to understand marketing impact"
   ]
  },
  {
   "cell_type": "markdown",
   "metadata": {},
   "source": [
    "In a typical A/B testing setting, you would create and test two or more versions of marketing strategies for their effectiveness in achieving your marketing goal. Consider a case where your goal is to improve marketing email open rates. \n",
    "\n",
    "If your hypothesis is that email subject line B will result in higher open rates than email subject line A, then you would run an A/B test with these two subject lines. You will randomly select half of the users and send out marketing emails with subject line A. The other half of randomly selected users will receive emails with subject line B. You will run this test for a predetermined period of time (which could be one week, two weeks, or one month, for instance) or until a predetermined number of users receive the two versions of emails (which is a minimum of 1,000 users to receive each version of the subject line). Once your tests are complete, then you analyze and evaluate the experiment results. When analyzing the results, you will need to check whether there is a statistically significant difference between the results of the two versions."
   ]
  },
  {
   "cell_type": "code",
   "execution_count": 82,
   "metadata": {},
   "outputs": [
    {
     "data": {
      "text/html": [
       "<div>\n",
       "<style scoped>\n",
       "    .dataframe tbody tr th:only-of-type {\n",
       "        vertical-align: middle;\n",
       "    }\n",
       "\n",
       "    .dataframe tbody tr th {\n",
       "        vertical-align: top;\n",
       "    }\n",
       "\n",
       "    .dataframe thead th {\n",
       "        text-align: right;\n",
       "    }\n",
       "</style>\n",
       "<table border=\"1\" class=\"dataframe\">\n",
       "  <thead>\n",
       "    <tr style=\"text-align: right;\">\n",
       "      <th></th>\n",
       "      <th>user_id</th>\n",
       "      <th>date_served</th>\n",
       "      <th>marketing_channel</th>\n",
       "      <th>test_control</th>\n",
       "      <th>converted</th>\n",
       "      <th>language_preferred</th>\n",
       "      <th>age_group</th>\n",
       "      <th>date_subscribed</th>\n",
       "      <th>date_canceled</th>\n",
       "      <th>is_retained</th>\n",
       "    </tr>\n",
       "  </thead>\n",
       "  <tbody>\n",
       "    <tr>\n",
       "      <th>0</th>\n",
       "      <td>a100000029</td>\n",
       "      <td>2018-01-01</td>\n",
       "      <td>House Ads</td>\n",
       "      <td>personalization</td>\n",
       "      <td>True</td>\n",
       "      <td>English</td>\n",
       "      <td>0-18 years</td>\n",
       "      <td>1/1/2018</td>\n",
       "      <td>NaN</td>\n",
       "      <td>True</td>\n",
       "    </tr>\n",
       "    <tr>\n",
       "      <th>1</th>\n",
       "      <td>a100000030</td>\n",
       "      <td>2018-01-01</td>\n",
       "      <td>House Ads</td>\n",
       "      <td>personalization</td>\n",
       "      <td>True</td>\n",
       "      <td>English</td>\n",
       "      <td>19-24 years</td>\n",
       "      <td>1/1/2018</td>\n",
       "      <td>NaN</td>\n",
       "      <td>True</td>\n",
       "    </tr>\n",
       "    <tr>\n",
       "      <th>2</th>\n",
       "      <td>a100000031</td>\n",
       "      <td>2018-01-01</td>\n",
       "      <td>House Ads</td>\n",
       "      <td>personalization</td>\n",
       "      <td>True</td>\n",
       "      <td>English</td>\n",
       "      <td>24-30 years</td>\n",
       "      <td>1/1/2018</td>\n",
       "      <td>NaN</td>\n",
       "      <td>True</td>\n",
       "    </tr>\n",
       "    <tr>\n",
       "      <th>3</th>\n",
       "      <td>a100000032</td>\n",
       "      <td>2018-01-01</td>\n",
       "      <td>House Ads</td>\n",
       "      <td>personalization</td>\n",
       "      <td>True</td>\n",
       "      <td>English</td>\n",
       "      <td>30-36 years</td>\n",
       "      <td>1/1/2018</td>\n",
       "      <td>NaN</td>\n",
       "      <td>True</td>\n",
       "    </tr>\n",
       "    <tr>\n",
       "      <th>4</th>\n",
       "      <td>a100000033</td>\n",
       "      <td>2018-01-01</td>\n",
       "      <td>House Ads</td>\n",
       "      <td>personalization</td>\n",
       "      <td>True</td>\n",
       "      <td>English</td>\n",
       "      <td>36-45 years</td>\n",
       "      <td>1/1/2018</td>\n",
       "      <td>NaN</td>\n",
       "      <td>True</td>\n",
       "    </tr>\n",
       "    <tr>\n",
       "      <th>...</th>\n",
       "      <td>...</td>\n",
       "      <td>...</td>\n",
       "      <td>...</td>\n",
       "      <td>...</td>\n",
       "      <td>...</td>\n",
       "      <td>...</td>\n",
       "      <td>...</td>\n",
       "      <td>...</td>\n",
       "      <td>...</td>\n",
       "      <td>...</td>\n",
       "    </tr>\n",
       "    <tr>\n",
       "      <th>10017</th>\n",
       "      <td>a100007290</td>\n",
       "      <td>2018-01-17</td>\n",
       "      <td>Email</td>\n",
       "      <td>control</td>\n",
       "      <td>True</td>\n",
       "      <td>German</td>\n",
       "      <td>45-55 years</td>\n",
       "      <td>1/17/2018</td>\n",
       "      <td>1/24/2018</td>\n",
       "      <td>False</td>\n",
       "    </tr>\n",
       "    <tr>\n",
       "      <th>10018</th>\n",
       "      <td>a100007291</td>\n",
       "      <td>2018-01-17</td>\n",
       "      <td>Email</td>\n",
       "      <td>control</td>\n",
       "      <td>True</td>\n",
       "      <td>German</td>\n",
       "      <td>55+ years</td>\n",
       "      <td>1/17/2018</td>\n",
       "      <td>NaN</td>\n",
       "      <td>True</td>\n",
       "    </tr>\n",
       "    <tr>\n",
       "      <th>10019</th>\n",
       "      <td>a100007292</td>\n",
       "      <td>2018-01-05</td>\n",
       "      <td>Instagram</td>\n",
       "      <td>control</td>\n",
       "      <td>False</td>\n",
       "      <td>German</td>\n",
       "      <td>55+ years</td>\n",
       "      <td>1/17/2018</td>\n",
       "      <td>NaN</td>\n",
       "      <td>True</td>\n",
       "    </tr>\n",
       "    <tr>\n",
       "      <th>10020</th>\n",
       "      <td>a100007293</td>\n",
       "      <td>2018-01-17</td>\n",
       "      <td>Email</td>\n",
       "      <td>control</td>\n",
       "      <td>True</td>\n",
       "      <td>German</td>\n",
       "      <td>0-18 years</td>\n",
       "      <td>1/17/2018</td>\n",
       "      <td>NaN</td>\n",
       "      <td>True</td>\n",
       "    </tr>\n",
       "    <tr>\n",
       "      <th>10021</th>\n",
       "      <td>a100007294</td>\n",
       "      <td>2018-01-06</td>\n",
       "      <td>Facebook</td>\n",
       "      <td>control</td>\n",
       "      <td>False</td>\n",
       "      <td>German</td>\n",
       "      <td>0-18 years</td>\n",
       "      <td>1/17/2018</td>\n",
       "      <td>NaN</td>\n",
       "      <td>True</td>\n",
       "    </tr>\n",
       "  </tbody>\n",
       "</table>\n",
       "<p>10022 rows × 10 columns</p>\n",
       "</div>"
      ],
      "text/plain": [
       "          user_id date_served marketing_channel     test_control  converted  \\\n",
       "0      a100000029  2018-01-01         House Ads  personalization       True   \n",
       "1      a100000030  2018-01-01         House Ads  personalization       True   \n",
       "2      a100000031  2018-01-01         House Ads  personalization       True   \n",
       "3      a100000032  2018-01-01         House Ads  personalization       True   \n",
       "4      a100000033  2018-01-01         House Ads  personalization       True   \n",
       "...           ...         ...               ...              ...        ...   \n",
       "10017  a100007290  2018-01-17             Email          control       True   \n",
       "10018  a100007291  2018-01-17             Email          control       True   \n",
       "10019  a100007292  2018-01-05         Instagram          control      False   \n",
       "10020  a100007293  2018-01-17             Email          control       True   \n",
       "10021  a100007294  2018-01-06          Facebook          control      False   \n",
       "\n",
       "      language_preferred    age_group date_subscribed date_canceled  \\\n",
       "0                English   0-18 years        1/1/2018           NaN   \n",
       "1                English  19-24 years        1/1/2018           NaN   \n",
       "2                English  24-30 years        1/1/2018           NaN   \n",
       "3                English  30-36 years        1/1/2018           NaN   \n",
       "4                English  36-45 years        1/1/2018           NaN   \n",
       "...                  ...          ...             ...           ...   \n",
       "10017             German  45-55 years       1/17/2018     1/24/2018   \n",
       "10018             German    55+ years       1/17/2018           NaN   \n",
       "10019             German    55+ years       1/17/2018           NaN   \n",
       "10020             German   0-18 years       1/17/2018           NaN   \n",
       "10021             German   0-18 years       1/17/2018           NaN   \n",
       "\n",
       "      is_retained  \n",
       "0            True  \n",
       "1            True  \n",
       "2            True  \n",
       "3            True  \n",
       "4            True  \n",
       "...           ...  \n",
       "10017       False  \n",
       "10018        True  \n",
       "10019        True  \n",
       "10020        True  \n",
       "10021        True  \n",
       "\n",
       "[10022 rows x 10 columns]"
      ]
     },
     "execution_count": 82,
     "metadata": {},
     "output_type": "execute_result"
    }
   ],
   "source": [
    "campaign"
   ]
  },
  {
   "cell_type": "code",
   "execution_count": 81,
   "metadata": {},
   "outputs": [],
   "source": [
    "from scipy import stats\n",
    "import numpy as np"
   ]
  },
  {
   "cell_type": "code",
   "execution_count": 80,
   "metadata": {},
   "outputs": [
    {
     "data": {
      "text/plain": [
       "control            5076\n",
       "personalization    4946\n",
       "Name: test_control, dtype: int64"
      ]
     },
     "execution_count": 80,
     "metadata": {},
     "output_type": "execute_result"
    }
   ],
   "source": [
    "campaign['test_control'].value_counts()      #there is a 'test control' column"
   ]
  },
  {
   "cell_type": "code",
   "execution_count": 83,
   "metadata": {},
   "outputs": [],
   "source": [
    "# Let's only look at Email marketing channel\n",
    "email = campaign.loc[campaign['marketing_channel'] == 'Email']"
   ]
  },
  {
   "cell_type": "code",
   "execution_count": 84,
   "metadata": {},
   "outputs": [
    {
     "data": {
      "text/html": [
       "<div>\n",
       "<style scoped>\n",
       "    .dataframe tbody tr th:only-of-type {\n",
       "        vertical-align: middle;\n",
       "    }\n",
       "\n",
       "    .dataframe tbody tr th {\n",
       "        vertical-align: top;\n",
       "    }\n",
       "\n",
       "    .dataframe thead th {\n",
       "        text-align: right;\n",
       "    }\n",
       "</style>\n",
       "<table border=\"1\" class=\"dataframe\">\n",
       "  <thead>\n",
       "    <tr style=\"text-align: right;\">\n",
       "      <th></th>\n",
       "      <th>user_id</th>\n",
       "      <th>date_served</th>\n",
       "      <th>marketing_channel</th>\n",
       "      <th>test_control</th>\n",
       "      <th>converted</th>\n",
       "      <th>language_preferred</th>\n",
       "      <th>age_group</th>\n",
       "      <th>date_subscribed</th>\n",
       "      <th>date_canceled</th>\n",
       "      <th>is_retained</th>\n",
       "    </tr>\n",
       "  </thead>\n",
       "  <tbody>\n",
       "    <tr>\n",
       "      <th>354</th>\n",
       "      <td>a100000526</td>\n",
       "      <td>2018-01-01</td>\n",
       "      <td>Email</td>\n",
       "      <td>personalization</td>\n",
       "      <td>True</td>\n",
       "      <td>Arabic</td>\n",
       "      <td>0-18 years</td>\n",
       "      <td>1/1/2018</td>\n",
       "      <td>NaN</td>\n",
       "      <td>True</td>\n",
       "    </tr>\n",
       "    <tr>\n",
       "      <th>358</th>\n",
       "      <td>a100000530</td>\n",
       "      <td>2018-01-05</td>\n",
       "      <td>Email</td>\n",
       "      <td>personalization</td>\n",
       "      <td>True</td>\n",
       "      <td>Arabic</td>\n",
       "      <td>19-24 years</td>\n",
       "      <td>1/5/2018</td>\n",
       "      <td>NaN</td>\n",
       "      <td>True</td>\n",
       "    </tr>\n",
       "    <tr>\n",
       "      <th>362</th>\n",
       "      <td>a100000534</td>\n",
       "      <td>2018-01-09</td>\n",
       "      <td>Email</td>\n",
       "      <td>personalization</td>\n",
       "      <td>False</td>\n",
       "      <td>English</td>\n",
       "      <td>45-55 years</td>\n",
       "      <td>1/9/2018</td>\n",
       "      <td>NaN</td>\n",
       "      <td>True</td>\n",
       "    </tr>\n",
       "    <tr>\n",
       "      <th>366</th>\n",
       "      <td>a100000538</td>\n",
       "      <td>2018-01-13</td>\n",
       "      <td>Email</td>\n",
       "      <td>personalization</td>\n",
       "      <td>True</td>\n",
       "      <td>Arabic</td>\n",
       "      <td>24-30 years</td>\n",
       "      <td>1/13/2018</td>\n",
       "      <td>1/23/2018</td>\n",
       "      <td>False</td>\n",
       "    </tr>\n",
       "    <tr>\n",
       "      <th>370</th>\n",
       "      <td>a100000542</td>\n",
       "      <td>2018-01-17</td>\n",
       "      <td>Email</td>\n",
       "      <td>personalization</td>\n",
       "      <td>True</td>\n",
       "      <td>English</td>\n",
       "      <td>0-18 years</td>\n",
       "      <td>1/17/2018</td>\n",
       "      <td>2/12/2018</td>\n",
       "      <td>False</td>\n",
       "    </tr>\n",
       "    <tr>\n",
       "      <th>...</th>\n",
       "      <td>...</td>\n",
       "      <td>...</td>\n",
       "      <td>...</td>\n",
       "      <td>...</td>\n",
       "      <td>...</td>\n",
       "      <td>...</td>\n",
       "      <td>...</td>\n",
       "      <td>...</td>\n",
       "      <td>...</td>\n",
       "      <td>...</td>\n",
       "    </tr>\n",
       "    <tr>\n",
       "      <th>10015</th>\n",
       "      <td>a100007288</td>\n",
       "      <td>2018-01-17</td>\n",
       "      <td>Email</td>\n",
       "      <td>control</td>\n",
       "      <td>True</td>\n",
       "      <td>German</td>\n",
       "      <td>30-36 years</td>\n",
       "      <td>1/17/2018</td>\n",
       "      <td>4/26/2018</td>\n",
       "      <td>False</td>\n",
       "    </tr>\n",
       "    <tr>\n",
       "      <th>10016</th>\n",
       "      <td>a100007289</td>\n",
       "      <td>2018-01-17</td>\n",
       "      <td>Email</td>\n",
       "      <td>control</td>\n",
       "      <td>True</td>\n",
       "      <td>German</td>\n",
       "      <td>36-45 years</td>\n",
       "      <td>1/17/2018</td>\n",
       "      <td>1/27/2018</td>\n",
       "      <td>False</td>\n",
       "    </tr>\n",
       "    <tr>\n",
       "      <th>10017</th>\n",
       "      <td>a100007290</td>\n",
       "      <td>2018-01-17</td>\n",
       "      <td>Email</td>\n",
       "      <td>control</td>\n",
       "      <td>True</td>\n",
       "      <td>German</td>\n",
       "      <td>45-55 years</td>\n",
       "      <td>1/17/2018</td>\n",
       "      <td>1/24/2018</td>\n",
       "      <td>False</td>\n",
       "    </tr>\n",
       "    <tr>\n",
       "      <th>10018</th>\n",
       "      <td>a100007291</td>\n",
       "      <td>2018-01-17</td>\n",
       "      <td>Email</td>\n",
       "      <td>control</td>\n",
       "      <td>True</td>\n",
       "      <td>German</td>\n",
       "      <td>55+ years</td>\n",
       "      <td>1/17/2018</td>\n",
       "      <td>NaN</td>\n",
       "      <td>True</td>\n",
       "    </tr>\n",
       "    <tr>\n",
       "      <th>10020</th>\n",
       "      <td>a100007293</td>\n",
       "      <td>2018-01-17</td>\n",
       "      <td>Email</td>\n",
       "      <td>control</td>\n",
       "      <td>True</td>\n",
       "      <td>German</td>\n",
       "      <td>0-18 years</td>\n",
       "      <td>1/17/2018</td>\n",
       "      <td>NaN</td>\n",
       "      <td>True</td>\n",
       "    </tr>\n",
       "  </tbody>\n",
       "</table>\n",
       "<p>565 rows × 10 columns</p>\n",
       "</div>"
      ],
      "text/plain": [
       "          user_id date_served marketing_channel     test_control  converted  \\\n",
       "354    a100000526  2018-01-01             Email  personalization       True   \n",
       "358    a100000530  2018-01-05             Email  personalization       True   \n",
       "362    a100000534  2018-01-09             Email  personalization      False   \n",
       "366    a100000538  2018-01-13             Email  personalization       True   \n",
       "370    a100000542  2018-01-17             Email  personalization       True   \n",
       "...           ...         ...               ...              ...        ...   \n",
       "10015  a100007288  2018-01-17             Email          control       True   \n",
       "10016  a100007289  2018-01-17             Email          control       True   \n",
       "10017  a100007290  2018-01-17             Email          control       True   \n",
       "10018  a100007291  2018-01-17             Email          control       True   \n",
       "10020  a100007293  2018-01-17             Email          control       True   \n",
       "\n",
       "      language_preferred    age_group date_subscribed date_canceled  \\\n",
       "354               Arabic   0-18 years        1/1/2018           NaN   \n",
       "358               Arabic  19-24 years        1/5/2018           NaN   \n",
       "362              English  45-55 years        1/9/2018           NaN   \n",
       "366               Arabic  24-30 years       1/13/2018     1/23/2018   \n",
       "370              English   0-18 years       1/17/2018     2/12/2018   \n",
       "...                  ...          ...             ...           ...   \n",
       "10015             German  30-36 years       1/17/2018     4/26/2018   \n",
       "10016             German  36-45 years       1/17/2018     1/27/2018   \n",
       "10017             German  45-55 years       1/17/2018     1/24/2018   \n",
       "10018             German    55+ years       1/17/2018           NaN   \n",
       "10020             German   0-18 years       1/17/2018           NaN   \n",
       "\n",
       "      is_retained  \n",
       "354          True  \n",
       "358          True  \n",
       "362          True  \n",
       "366         False  \n",
       "370         False  \n",
       "...           ...  \n",
       "10015       False  \n",
       "10016       False  \n",
       "10017       False  \n",
       "10018        True  \n",
       "10020        True  \n",
       "\n",
       "[565 rows x 10 columns]"
      ]
     },
     "execution_count": 84,
     "metadata": {},
     "output_type": "execute_result"
    }
   ],
   "source": [
    "email"
   ]
  },
  {
   "cell_type": "code",
   "execution_count": 134,
   "metadata": {},
   "outputs": [
    {
     "name": "stdout",
     "output_type": "stream",
     "text": [
      "          user_id date_served marketing_channel     test_control  converted  \\\n",
      "354    a100000526  2018-01-01             Email  personalization       True   \n",
      "358    a100000530  2018-01-05             Email  personalization       True   \n",
      "362    a100000534  2018-01-09             Email  personalization      False   \n",
      "366    a100000538  2018-01-13             Email  personalization       True   \n",
      "370    a100000542  2018-01-17             Email  personalization       True   \n",
      "...           ...         ...               ...              ...        ...   \n",
      "10015  a100007288  2018-01-17             Email          control       True   \n",
      "10016  a100007289  2018-01-17             Email          control       True   \n",
      "10017  a100007290  2018-01-17             Email          control       True   \n",
      "10018  a100007291  2018-01-17             Email          control       True   \n",
      "10020  a100007293  2018-01-17             Email          control       True   \n",
      "\n",
      "      language_preferred    age_group date_subscribed date_canceled  \\\n",
      "354               Arabic   0-18 years        1/1/2018           NaN   \n",
      "358               Arabic  19-24 years        1/5/2018           NaN   \n",
      "362              English  45-55 years        1/9/2018           NaN   \n",
      "366               Arabic  24-30 years       1/13/2018     1/23/2018   \n",
      "370              English   0-18 years       1/17/2018     2/12/2018   \n",
      "...                  ...          ...             ...           ...   \n",
      "10015             German  30-36 years       1/17/2018     4/26/2018   \n",
      "10016             German  36-45 years       1/17/2018     1/27/2018   \n",
      "10017             German  45-55 years       1/17/2018     1/24/2018   \n",
      "10018             German    55+ years       1/17/2018           NaN   \n",
      "10020             German   0-18 years       1/17/2018           NaN   \n",
      "\n",
      "      is_retained  \n",
      "354          True  \n",
      "358          True  \n",
      "362          True  \n",
      "366         False  \n",
      "370         False  \n",
      "...           ...  \n",
      "10015       False  \n",
      "10016       False  \n",
      "10017       False  \n",
      "10018        True  \n",
      "10020        True  \n",
      "\n",
      "[565 rows x 10 columns]\n"
     ]
    }
   ],
   "source": [
    "print(email)"
   ]
  },
  {
   "cell_type": "markdown",
   "metadata": {},
   "source": [
    "For email channel, there are the test groups which received personalization email and the control group which receive normal email"
   ]
  },
  {
   "cell_type": "code",
   "execution_count": 85,
   "metadata": {},
   "outputs": [
    {
     "data": {
      "text/plain": [
       "test_control\n",
       "control            270\n",
       "personalization    284\n",
       "Name: user_id, dtype: int64"
      ]
     },
     "execution_count": 85,
     "metadata": {},
     "output_type": "execute_result"
    }
   ],
   "source": [
    "email.groupby(['test_control'])['user_id'].nunique()"
   ]
  },
  {
   "cell_type": "code",
   "execution_count": 86,
   "metadata": {},
   "outputs": [
    {
     "data": {
      "text/plain": [
       "test_control\n",
       "control             76\n",
       "personalization    111\n",
       "Name: user_id, dtype: int64"
      ]
     },
     "execution_count": 86,
     "metadata": {},
     "output_type": "execute_result"
    }
   ],
   "source": [
    "# Let's compare the conversion rate between test and control group\n",
    "\n",
    "# select 'test_control', count distinct'user_id' from campaign group by 'user_id' having 'converted' == True\n",
    "\n",
    "email.loc[email['converted']==True].groupby(['test_control'])['user_id'].nunique()"
   ]
  },
  {
   "cell_type": "code",
   "execution_count": 87,
   "metadata": {},
   "outputs": [
    {
     "data": {
      "text/plain": [
       "test_control\n",
       "control            0.281481\n",
       "personalization    0.390845\n",
       "Name: user_id, dtype: float64"
      ]
     },
     "execution_count": 87,
     "metadata": {},
     "output_type": "execute_result"
    }
   ],
   "source": [
    "email.loc[email['converted']==True].groupby(['test_control'])['user_id'].nunique()\\\n",
    "/email.groupby(['test_control'])['user_id'].nunique()"
   ]
  },
  {
   "cell_type": "markdown",
   "metadata": {},
   "source": [
    "Calculate the lift:\n",
    "\n",
    "(Test conversion rate - Control conversion rate) / Control converstion rate"
   ]
  },
  {
   "cell_type": "code",
   "execution_count": 88,
   "metadata": {},
   "outputs": [],
   "source": [
    "lift = (0.390845 - 0.281481)/ 0.281481"
   ]
  },
  {
   "cell_type": "code",
   "execution_count": 89,
   "metadata": {},
   "outputs": [
    {
     "name": "stdout",
     "output_type": "stream",
     "text": [
      "0.38853066459192637\n"
     ]
    }
   ],
   "source": [
    "print(lift)"
   ]
  },
  {
   "attachments": {
    "image.png": {
     "image/png": "[encoded data removed]"
    }
   },
   "cell_type": "markdown",
   "metadata": {},
   "source": [
    "# **Statistical hypothesis testing**\n",
    "Student's t-test, or simply the t-test, is frequently used to test whether the difference between two tests is statistically significant. The t-test compares the two averages and examines whether they are significantly different from each other\n",
    "\n",
    "There are two important statistics in a t-test—the t-value and p-value. \n",
    "- The t-value measures the degree of difference relative to the variation in the data. The larger the t-value is, the more difference there is between the two groups. \n",
    "\n",
    "- On the other hand, the p-value measures the probability that the results would occur by chance. The smaller the p-value is, the more statistically significant difference there will be between the two groups\n",
    "\n",
    "The equation to compute the t-value is:\n",
    "\n",
    "![image.png](attachment:image.png)\n",
    "In this equation, M1 and M2 are the averages of group 1 and 2. S1 and S2 are the standard deviations of group 1 and 2, and N1 and N2 are number of samples in group 1 and 2 respectively\n",
    "\n",
    "Generally speaking, the null hypothesis is that the two groups show no statistically significant difference. On the other hand, the alternate hypothesis states that the two groups show a statistically significant difference. **When the t-value is larger than a threshold and the p-value is smaller than a threshold, we say that we can reject the null hypothesis and that the two groups show a statistically significant difference**. Typically, 0.01 or 0.05 are used as the p-value thresholds for testing statistical significance. If the p-value is less than 0.05, then it suggests that there is less than 5% probability that the difference between the two groups occurs by chance. In other words, the difference is highly unlikely to be by chance\n"
   ]
  },
  {
   "cell_type": "code",
   "execution_count": 90,
   "metadata": {},
   "outputs": [],
   "source": [
    "t, p = stats.ttest_ind(\n",
    "    email.loc[email['test_control'] == 'personalization', 'converted'].values, \n",
    "    email.loc[email['test_control'] == 'control', 'converted'].values, \n",
    "    equal_var=False\n",
    ")\n",
    "# the stats module from the scipy package has a function named ttest_ind. \n",
    "# This function computes t-value and p-value, given the data"
   ]
  },
  {
   "cell_type": "code",
   "execution_count": 91,
   "metadata": {},
   "outputs": [
    {
     "name": "stdout",
     "output_type": "stream",
     "text": [
      "0.015550470284327801\n"
     ]
    }
   ],
   "source": [
    "print(p)"
   ]
  }
 ],
 "metadata": {
  "kernelspec": {
   "display_name": "Python 3 (ipykernel)",
   "language": "python",
   "name": "python3"
  },
  "language_info": {
   "codemirror_mode": {
    "name": "ipython",
    "version": 3
   },
   "file_extension": ".py",
   "mimetype": "text/x-python",
   "name": "python",
   "nbconvert_exporter": "python",
   "pygments_lexer": "ipython3",
   "version": "3.9.7"
  }
 },
 "nbformat": 4,
 "nbformat_minor": 2
}
